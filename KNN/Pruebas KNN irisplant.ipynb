{
 "cells": [
  {
   "cell_type": "markdown",
   "metadata": {},
   "source": [
    "### 1. Cargar base de datos iris plant"
   ]
  },
  {
   "cell_type": "code",
   "execution_count": 2,
   "metadata": {},
   "outputs": [],
   "source": [
    "import pandas as pd"
   ]
  },
  {
   "cell_type": "code",
   "execution_count": 3,
   "metadata": {},
   "outputs": [],
   "source": [
    "ds = pd.read_csv(\"../datasets/iris_plant/PCA_iris_plant.csv\")"
   ]
  },
  {
   "cell_type": "code",
   "execution_count": 42,
   "metadata": {},
   "outputs": [],
   "source": [
    "#ds bi-clase\n",
    "# 0 = setosa , 1 = versicolor , 2 = virginica\n",
    "ds_b = pd.read_csv(\"../datasets/iris_plant/PCA_iris_plant.csv\")\n",
    "ds_b[\"variety\"] = ds_b[\"variety\"].replace([0],2)\n",
    "ds_b[\"variety\"] = ds_b[\"variety\"].replace([1],0)\n",
    "ds_b[\"variety\"] = ds_b[\"variety\"].replace([2],1)"
   ]
  },
  {
   "cell_type": "markdown",
   "metadata": {},
   "source": [
    "### 2. Separar la base de datos"
   ]
  },
  {
   "cell_type": "code",
   "execution_count": 43,
   "metadata": {},
   "outputs": [],
   "source": [
    "x = ds[[\"x1\",\"x2\"]]\n",
    "y = ds[[\"variety\"]]\n",
    "#----------------------------\n",
    "xb = ds_b[[\"x1\",\"x2\"]]\n",
    "yb = ds_b[[\"variety\"]]"
   ]
  },
  {
   "cell_type": "markdown",
   "metadata": {},
   "source": [
    "### 3. Validación cruzada (datos de entrenamiento y prueba)"
   ]
  },
  {
   "cell_type": "code",
   "execution_count": 6,
   "metadata": {},
   "outputs": [],
   "source": [
    "from sklearn.model_selection import train_test_split"
   ]
  },
  {
   "cell_type": "code",
   "execution_count": 44,
   "metadata": {},
   "outputs": [],
   "source": [
    "x_train,x_test,y_train,y_test = train_test_split(x,y,test_size=0.35)\n",
    "#------------------------------------------------------------------\n",
    "xb_train,xb_test,yb_train,yb_test = train_test_split(xb,yb,test_size=0.35)"
   ]
  },
  {
   "cell_type": "code",
   "execution_count": 8,
   "metadata": {},
   "outputs": [],
   "source": [
    "from sklearn.neighbors import KNeighborsClassifier\n",
    "from sklearn.metrics import confusion_matrix,roc_curve,auc\n",
    "import seaborn as sbs\n",
    "import matplotlib.pyplot as plt"
   ]
  },
  {
   "cell_type": "markdown",
   "metadata": {},
   "source": [
    "#### Función para entrenar el modelo y mostrar matriz de confusión"
   ]
  },
  {
   "cell_type": "code",
   "execution_count": 9,
   "metadata": {},
   "outputs": [],
   "source": [
    "def train_clf(model,X_train,X_test,y_train,y_test,labels):\n",
    "    model.fit(X_train,y_train.values.ravel())\n",
    "    model_predicted = model.predict(X_test)\n",
    "    confusion_ma = confusion_matrix(y_test,model_predicted)\n",
    "    accuracy = model.score(X_test,y_test.values.ravel())\n",
    "    print(\"Predicción del modelo:\")\n",
    "    print(model_predicted)\n",
    "    print(\"Valores reales:\")\n",
    "    print(y_test.values.ravel())    \n",
    "    print('Precisión del modelo:',accuracy*100,'%')\n",
    "    print('-----------\\n')\n",
    "    print(\"Matriz de confusión\")\n",
    "    sbs.heatmap(data=confusion_ma,cmap=\"Pastel1\",annot=True,xticklabels=labels,yticklabels=labels)\n",
    "    plt.xlabel(\"Actual\")\n",
    "    plt.ylabel(\"predicción\")\n",
    "    return confusion_ma    "
   ]
  },
  {
   "cell_type": "markdown",
   "metadata": {},
   "source": [
    "#### función para mostrar la curva ROC del modelo"
   ]
  },
  {
   "cell_type": "code",
   "execution_count": 10,
   "metadata": {},
   "outputs": [],
   "source": [
    "def plot_roc_curve(model,X_test,y_test):\n",
    "    #El modelo debe estar ajustado previamente\n",
    "    #model.fit(X_test,y_test.values.ravel())\n",
    "    y_scores = model.predict_proba(X_test)\n",
    "    fpr, tpr, threshold = roc_curve(y_test, y_scores[:, 1])\n",
    "    roc_auc = auc(fpr,tpr)\n",
    "    plt.title('Curva ROC')\n",
    "    plt.plot(fpr, tpr, 'b', label = 'AUC = %0.2f' % roc_auc)\n",
    "    plt.legend(loc = 'lower right')\n",
    "    plt.plot([0, 1], [0, 1],'r--')\n",
    "    plt.xlim([0, 1])\n",
    "    plt.ylim([0, 1])\n",
    "    plt.ylabel('Verdadero Positivo')\n",
    "    plt.xlabel('Falso Positivo')\n",
    "    plt.show()"
   ]
  },
  {
   "cell_type": "code",
   "execution_count": 28,
   "metadata": {},
   "outputs": [
    {
     "name": "stdout",
     "output_type": "stream",
     "text": [
      "Predicción del modelo:\n",
      "[0 0 2 1 0 1 0 2 1 0 2 2 0 2 1 2 0 0 2 2 2 2 1 1 1 0 2 0 1 0 2 2 0 2 0 1 2\n",
      " 2 0 1 0 0 0 0 0 1 1 2 2 1 2 0 2]\n",
      "Valores reales:\n",
      "[0 0 2 1 0 1 0 2 1 0 2 2 0 2 1 2 0 0 2 2 2 2 1 1 1 0 2 0 1 0 2 2 0 2 0 1 1\n",
      " 2 0 1 0 0 0 0 0 2 1 2 2 1 2 0 2]\n",
      "Precisión del modelo: 96.22641509433963 %\n",
      "-----------\n",
      "\n",
      "Matriz de confusión\n"
     ]
    },
    {
     "data": {
      "image/png": "[encoded data removed]",
      "text/plain": [
       "<Figure size 432x288 with 2 Axes>"
      ]
     },
     "metadata": {},
     "output_type": "display_data"
    }
   ],
   "source": [
    "KNN = KNeighborsClassifier(n_neighbors=5,p=2)\n",
    "labels = [\"Setosa\",\"Versicolor\",'Virginica']\n",
    "conf_ma = train_clf(model=KNN,X_train=x_train  ,X_test=x_test  ,y_train=y_train,y_test=y_test,labels=labels)"
   ]
  },
  {
   "cell_type": "code",
   "execution_count": 133,
   "metadata": {},
   "outputs": [],
   "source": [
    "#ds bi-clase\n",
    "# 0 = setosa , 1 = versicolor , 2 = virginica\n",
    "ds_b = pd.read_csv(\"../datasets/iris_plant/PCA_iris_plant.csv\")\n",
    "ds_b[\"variety\"] = ds_b[\"variety\"].replace([0],2)\n",
    "ds_b[\"variety\"] = ds_b[\"variety\"].replace([1],0)\n",
    "ds_b[\"variety\"] = ds_b[\"variety\"].replace([2],1)\n",
    "xb = ds_b[[\"x1\",\"x2\"]]\n",
    "yb = ds_b[[\"variety\"]]\n",
    "xb_train,xb_test,yb_train,yb_test = train_test_split(xb,yb,test_size=0.65)"
   ]
  },
  {
   "cell_type": "code",
   "execution_count": 134,
   "metadata": {},
   "outputs": [
    {
     "name": "stdout",
     "output_type": "stream",
     "text": [
      "Predicción del modelo:\n",
      "[1 1 0 1 1 1 1 1 0 0 0 1 1 1 0 1 1 1 1 0 0 0 0 1 0 0 0 0 1 1 1 0 1 1 1 1 1\n",
      " 1 1 1 1 1 0 0 1 1 1 1 1 0 1 1 0 0 1 1 1 1 1 1 0 1 1 1 1 0 1 0 1 0 1 0 0 1\n",
      " 1 0 0 0 0 0 0 0 1 1 0 1 1 0 0 0 0 1 0 1 1 0 1 0]\n",
      "Valores reales:\n",
      "[1 1 0 1 1 1 1 1 0 1 0 1 1 1 0 1 1 1 1 0 0 0 1 1 0 0 0 1 1 1 1 0 1 1 1 1 1\n",
      " 1 1 1 1 1 0 0 1 1 1 1 1 1 1 1 1 0 1 1 1 1 1 1 0 1 1 0 1 1 1 0 1 0 1 0 0 1\n",
      " 1 0 0 0 0 0 0 0 1 1 0 1 1 1 0 0 0 1 1 1 1 0 1 1]\n",
      "Precisión del modelo: 89.79591836734694 %\n",
      "-----------\n",
      "\n",
      "Matriz de confusión\n"
     ]
    },
    {
     "data": {
      "image/png": "[encoded data removed]",
      "text/plain": [
       "<Figure size 432x288 with 2 Axes>"
      ]
     },
     "metadata": {},
     "output_type": "display_data"
    }
   ],
   "source": [
    "#clasificador bi-clase \n",
    "clf_MinDist_b = KNeighborsClassifier(n_neighbors=5,p=2)\n",
    "labels = [\"w1\",\"w2\"]\n",
    "conf_ma = train_clf(model=clf_MinDist_b,X_train=xb_train,X_test=xb_test,y_train=yb_train,y_test=yb_test,labels=labels)"
   ]
  },
  {
   "cell_type": "code",
   "execution_count": 135,
   "metadata": {},
   "outputs": [
    {
     "data": {
      "image/png": "[encoded data removed]",
      "text/plain": [
       "<Figure size 432x288 with 1 Axes>"
      ]
     },
     "metadata": {},
     "output_type": "display_data"
    }
   ],
   "source": [
    "plot_roc_curve(model=clf_MinDist_b,X_test=xb_test,y_test=yb_test)"
   ]
  }
 ],
 "metadata": {
  "kernelspec": {
   "display_name": "Python 3",
   "language": "python",
   "name": "python3"
  },
  "language_info": {
   "codemirror_mode": {
    "name": "ipython",
    "version": 3
   },
   "file_extension": ".py",
   "mimetype": "text/x-python",
   "name": "python",
   "nbconvert_exporter": "python",
   "pygments_lexer": "ipython3",
   "version": "3.6.5"
  }
 },
 "nbformat": 4,
 "nbformat_minor": 2
}
