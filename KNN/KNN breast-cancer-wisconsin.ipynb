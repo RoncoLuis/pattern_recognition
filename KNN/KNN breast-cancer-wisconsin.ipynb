{
 "cells": [
  {
   "cell_type": "markdown",
   "metadata": {},
   "source": [
    "# Clasificador KNN\n",
    "### usando base de datos breast-cancer-wisconsin"
   ]
  },
  {
   "cell_type": "code",
   "execution_count": 2,
   "metadata": {},
   "outputs": [],
   "source": [
    "import pandas as pd"
   ]
  },
  {
   "cell_type": "code",
   "execution_count": 28,
   "metadata": {},
   "outputs": [],
   "source": [
    "#tomando la base de datos como un dataframe\n",
    "ds = pd.read_csv(\"../datasets/breast-cancer-wisconsin/PCA_breast-cancer-wisconsin.csv\")"
   ]
  },
  {
   "cell_type": "code",
   "execution_count": 29,
   "metadata": {},
   "outputs": [
    {
     "data": {
      "text/html": [
       "<div>\n",
       "<style scoped>\n",
       "    .dataframe tbody tr th:only-of-type {\n",
       "        vertical-align: middle;\n",
       "    }\n",
       "\n",
       "    .dataframe tbody tr th {\n",
       "        vertical-align: top;\n",
       "    }\n",
       "\n",
       "    .dataframe thead th {\n",
       "        text-align: right;\n",
       "    }\n",
       "</style>\n",
       "<table border=\"1\" class=\"dataframe\">\n",
       "  <thead>\n",
       "    <tr style=\"text-align: right;\">\n",
       "      <th></th>\n",
       "      <th>x1</th>\n",
       "      <th>x2</th>\n",
       "      <th>diagnosis</th>\n",
       "    </tr>\n",
       "  </thead>\n",
       "  <tbody>\n",
       "    <tr>\n",
       "      <th>0</th>\n",
       "      <td>1160.142574</td>\n",
       "      <td>-293.917544</td>\n",
       "      <td>M</td>\n",
       "    </tr>\n",
       "    <tr>\n",
       "      <th>1</th>\n",
       "      <td>1269.122443</td>\n",
       "      <td>15.630182</td>\n",
       "      <td>M</td>\n",
       "    </tr>\n",
       "    <tr>\n",
       "      <th>2</th>\n",
       "      <td>995.793889</td>\n",
       "      <td>39.156743</td>\n",
       "      <td>M</td>\n",
       "    </tr>\n",
       "    <tr>\n",
       "      <th>3</th>\n",
       "      <td>-407.180802</td>\n",
       "      <td>-67.380320</td>\n",
       "      <td>M</td>\n",
       "    </tr>\n",
       "    <tr>\n",
       "      <th>4</th>\n",
       "      <td>930.341180</td>\n",
       "      <td>189.340742</td>\n",
       "      <td>M</td>\n",
       "    </tr>\n",
       "  </tbody>\n",
       "</table>\n",
       "</div>"
      ],
      "text/plain": [
       "            x1          x2 diagnosis\n",
       "0  1160.142574 -293.917544         M\n",
       "1  1269.122443   15.630182         M\n",
       "2   995.793889   39.156743         M\n",
       "3  -407.180802  -67.380320         M\n",
       "4   930.341180  189.340742         M"
      ]
     },
     "execution_count": 29,
     "metadata": {},
     "output_type": "execute_result"
    }
   ],
   "source": [
    "ds.head()"
   ]
  },
  {
   "cell_type": "markdown",
   "metadata": {},
   "source": [
    "### separar la base de datos en caracteristicas y clases"
   ]
  },
  {
   "cell_type": "code",
   "execution_count": 34,
   "metadata": {},
   "outputs": [],
   "source": [
    "x = ds[[\"x1\",\"x2\"]]\n",
    "ds[[\"diagnosis\"]] = ds[[\"diagnosis\"]].replace(['B'],0)\n",
    "ds[[\"diagnosis\"]] = ds[[\"diagnosis\"]].replace(['M'],1)\n",
    "y = ds[[\"diagnosis\"]]"
   ]
  },
  {
   "cell_type": "markdown",
   "metadata": {},
   "source": [
    "### validación cruzada"
   ]
  },
  {
   "cell_type": "code",
   "execution_count": 6,
   "metadata": {},
   "outputs": [],
   "source": [
    "from sklearn.model_selection import train_test_split"
   ]
  },
  {
   "cell_type": "code",
   "execution_count": 17,
   "metadata": {},
   "outputs": [],
   "source": [
    "from sklearn.neighbors import KNeighborsClassifier\n",
    "from sklearn.metrics import confusion_matrix,roc_curve,auc\n",
    "import seaborn as sbs\n",
    "import matplotlib.pyplot as plt"
   ]
  },
  {
   "cell_type": "markdown",
   "metadata": {},
   "source": [
    "#### Función para entrenar el modelo y mostrar matriz de confusión"
   ]
  },
  {
   "cell_type": "code",
   "execution_count": 37,
   "metadata": {},
   "outputs": [],
   "source": [
    "def train_clf(model,X_train,X_test,y_train,y_test,labels):\n",
    "    model.fit(X_train,y_train.values.ravel())\n",
    "    model_predicted = model.predict(X_test)\n",
    "    confusion_ma = confusion_matrix(y_test,model_predicted)\n",
    "    accuracy = model.score(X_test,y_test.values.ravel())\n",
    "    print(\"Predicción del modelo:\")\n",
    "    print(model_predicted)\n",
    "    print(\"Valores reales:\")\n",
    "    print(y_test.values.ravel())    \n",
    "    print('Precisión del modelo:',accuracy*100,'%')\n",
    "    print('-----------\\n')\n",
    "    print(\"Matriz de confusión\")\n",
    "    sbs.heatmap(data=confusion_ma,cmap=\"Pastel1\",annot=True,xticklabels=labels,yticklabels=labels)\n",
    "    plt.xlabel(\"Actual\")\n",
    "    plt.ylabel(\"predicción\")\n",
    "    return confusion_ma    "
   ]
  },
  {
   "cell_type": "markdown",
   "metadata": {},
   "source": [
    "#### función para mostrar la curva ROC del modelo"
   ]
  },
  {
   "cell_type": "code",
   "execution_count": 21,
   "metadata": {},
   "outputs": [],
   "source": [
    "def plot_roc_curve(model,X_test,y_test):\n",
    "    #El modelo debe estar ajustado previamente\n",
    "    #model.fit(X_test,y_test.values.ravel())\n",
    "    y_scores = model.predict_proba(X_test)\n",
    "    fpr, tpr, threshold = roc_curve(y_test, y_scores[:, 1])\n",
    "    roc_auc = auc(fpr,tpr)\n",
    "    plt.title('Curva ROC')\n",
    "    plt.plot(fpr, tpr, 'b', label = 'AUC = %0.2f' % roc_auc)\n",
    "    plt.legend(loc = 'lower right')\n",
    "    plt.plot([0, 1], [0, 1],'r--')\n",
    "    plt.xlim([0, 1])\n",
    "    plt.ylim([0, 1])\n",
    "    plt.ylabel('Verdadero Positivo')\n",
    "    plt.xlabel('Falso Positivo')\n",
    "    plt.show()"
   ]
  },
  {
   "cell_type": "code",
   "execution_count": 63,
   "metadata": {},
   "outputs": [],
   "source": [
    "x_train,x_test,y_train,y_test = train_test_split(x,y,test_size=0.20)"
   ]
  },
  {
   "cell_type": "code",
   "execution_count": 72,
   "metadata": {},
   "outputs": [
    {
     "name": "stdout",
     "output_type": "stream",
     "text": [
      "Predicción del modelo:\n",
      "[1 0 1 0 0 1 1 0 1 1 0 1 0 1 1 0 0 0 1 1 0 1 0 0 0 0 0 1 0 0 1 0 1 0 1 0 0\n",
      " 0 0 1 0 1 0 0 0 0 0 1 0 0 0 0 1 0 1 1 0 0 0 0 0 1 0 1 0 0 1 1 0 0 1 1 0 0\n",
      " 0 0 0 1 0 0 0 0 0 1 0 1 1 0 0 1 0 1 0 1 1 0 0 0 0 1 1 1 0 1 0 1 0 0 0 0 0\n",
      " 0 1 0]\n",
      "Valores reales:\n",
      "[1 1 1 0 0 1 1 0 1 1 0 1 0 1 1 0 0 0 1 1 0 1 0 0 0 0 0 1 0 0 1 0 1 0 1 0 0\n",
      " 1 0 1 0 1 0 0 0 0 0 1 0 0 0 0 1 0 1 1 0 0 0 0 0 1 0 1 0 0 1 1 0 0 1 1 0 0\n",
      " 1 0 0 1 0 0 0 0 0 1 0 1 1 0 0 1 0 1 0 1 1 0 0 0 0 1 1 1 0 1 0 0 0 0 0 0 1\n",
      " 0 0 0]\n",
      "Precisión del modelo: 94.73684210526315 %\n",
      "-----------\n",
      "\n",
      "Matriz de confusión\n"
     ]
    },
    {
     "data": {
      "image/png": "[encoded data removed]",
      "text/plain": [
       "<Figure size 432x288 with 2 Axes>"
      ]
     },
     "metadata": {},
     "output_type": "display_data"
    }
   ],
   "source": [
    "KNN = KNeighborsClassifier(n_neighbors=2,p=2)\n",
    "labels = [\"Benigno\",\"Maligno\"]\n",
    "conf_ma = train_clf(model=KNN,X_train=x_train,X_test=x_test,y_train=y_train,y_test=y_test,labels=labels)"
   ]
  },
  {
   "cell_type": "code",
   "execution_count": 71,
   "metadata": {},
   "outputs": [
    {
     "data": {
      "image/png": "[encoded data removed]",
      "text/plain": [
       "<Figure size 432x288 with 1 Axes>"
      ]
     },
     "metadata": {},
     "output_type": "display_data"
    }
   ],
   "source": [
    "plot_roc_curve(model=KNN,X_test=x_test,y_test=y_test)"
   ]
  },
  {
   "cell_type": "code",
   "execution_count": null,
   "metadata": {},
   "outputs": [],
   "source": []
  }
 ],
 "metadata": {
  "kernelspec": {
   "display_name": "Python 3",
   "language": "python",
   "name": "python3"
  },
  "language_info": {
   "codemirror_mode": {
    "name": "ipython",
    "version": 3
   },
   "file_extension": ".py",
   "mimetype": "text/x-python",
   "name": "python",
   "nbconvert_exporter": "python",
   "pygments_lexer": "ipython3",
   "version": "3.6.5"
  }
 },
 "nbformat": 4,
 "nbformat_minor": 2
}
