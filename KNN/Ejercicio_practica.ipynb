{
 "cells": [
  {
   "cell_type": "code",
   "execution_count": 1,
   "metadata": {},
   "outputs": [],
   "source": [
    "import pandas as pd"
   ]
  },
  {
   "cell_type": "code",
   "execution_count": 3,
   "metadata": {},
   "outputs": [],
   "source": [
    "ds = pd.read_csv(\"../datasets/iris_plant/PCA_iris_plant.csv\")"
   ]
  },
  {
   "cell_type": "code",
   "execution_count": 4,
   "metadata": {},
   "outputs": [],
   "source": [
    "ds[\"variety\"] = ds[\"variety\"].replace([1],0)"
   ]
  },
  {
   "cell_type": "code",
   "execution_count": 5,
   "metadata": {},
   "outputs": [],
   "source": [
    "ds[\"variety\"] = ds[\"variety\"].replace([2],1)"
   ]
  },
  {
   "cell_type": "code",
   "execution_count": 7,
   "metadata": {},
   "outputs": [],
   "source": [
    "X = ds[[\"x1\",\"x2\"]]\n",
    "y = ds[[\"variety\"]]"
   ]
  },
  {
   "cell_type": "code",
   "execution_count": 9,
   "metadata": {},
   "outputs": [],
   "source": [
    "from sklearn.neighbors import KNeighborsClassifier\n",
    "from sklearn.model_selection import train_test_split"
   ]
  },
  {
   "cell_type": "code",
   "execution_count": 36,
   "metadata": {},
   "outputs": [],
   "source": [
    "def entrenar_clf(model,X_train,X_test,y_train,y_test,tittle):\n",
    "    from sklearn.metrics import confusion_matrix\n",
    "    import seaborn as sbs\n",
    "    import matplotlib.pyplot as plt\n",
    "    model.fit(X_train,y_train.values.ravel())\n",
    "    model_predicted = model.predict(X_test)\n",
    "    confusion_ma = confusion_matrix(y_test,model_predicted)\n",
    "    print(\"Predicción del modelo:\")\n",
    "    print(model_predicted)\n",
    "    print(\"Actual:\")\n",
    "    print(y_test.values.ravel())\n",
    "    #calculando la presicion (accuracy) del clasificador\n",
    "    accuracy = model.score(X_test,y_test.values.ravel())\n",
    "    print('accuracy',accuracy*100,'%')\n",
    "    print('----------- \\n')\n",
    "    print(\"Matriz de confusión\")\n",
    "    w=[\"w1\",\"w2\"]\n",
    "    sbs.heatmap(data=confusion_ma,cmap=\"Pastel1\",annot=True,xticklabels=w,yticklabels=w)\n",
    "    plt.xlabel(\"Actual\")\n",
    "    plt.ylabel(\"predicción\")\n",
    "    plt.title(tittle)"
   ]
  },
  {
   "cell_type": "code",
   "execution_count": 90,
   "metadata": {},
   "outputs": [],
   "source": [
    "def plot_roc_curve(model,X_test,y_test):\n",
    "    from sklearn.metrics import roc_curve,auc\n",
    "    import matplotlib.pyplot as plt\n",
    "    model.fit(X_test,y_test.values.ravel())\n",
    "    y_scores = model.predict_proba(X_test)\n",
    "    fpr, tpr, threshold = roc_curve(y_test, y_scores[:, 1])\n",
    "    roc_auc = auc(fpr,tpr)\n",
    "    plt.title('Receiver Operating Characteristic')\n",
    "    plt.plot(fpr, tpr, 'b', label = 'AUC = %0.2f' % roc_auc)\n",
    "    plt.legend(loc = 'lower right')\n",
    "    plt.plot([0, 1], [0, 1],'r--')\n",
    "    plt.xlim([0, 1])\n",
    "    plt.ylim([0, 1])\n",
    "    plt.ylabel('Verdadero Positivo')\n",
    "    plt.xlabel('Falso Positivo')\n",
    "    plt.show()"
   ]
  },
  {
   "cell_type": "code",
   "execution_count": 95,
   "metadata": {},
   "outputs": [],
   "source": [
    "x_train,x_test,y_train,y_test = train_test_split(X,y,test_size=0.35)"
   ]
  },
  {
   "cell_type": "code",
   "execution_count": 109,
   "metadata": {},
   "outputs": [
    {
     "name": "stdout",
     "output_type": "stream",
     "text": [
      "Predicción del modelo:\n",
      "[1 1 0 0 0 0 0 0 1 0 0 0 1 0 1 0 1 0 0 0 0 1 1 0 0 0 0 0 1 0 0 1 0 1 1 0 0\n",
      " 1 0 1 0 0 0 0 0 0 0 1 0 1 1 1 0]\n",
      "Actual:\n",
      "[1 1 0 0 0 0 0 0 0 0 0 0 1 0 0 0 1 0 0 0 0 1 1 0 0 0 0 0 1 0 0 1 0 1 1 0 0\n",
      " 1 0 1 0 0 0 0 0 0 0 1 1 1 1 1 0]\n",
      "accuracy 94.33962264150944 %\n",
      "----------- \n",
      "\n",
      "Matriz de confusión\n"
     ]
    },
    {
     "data": {
      "image/png": "[encoded data removed]",
      "text/plain": [
       "<Figure size 432x288 with 2 Axes>"
      ]
     },
     "metadata": {},
     "output_type": "display_data"
    }
   ],
   "source": [
    "knn = KNeighborsClassifier(n_neighbors=5,p=1)\n",
    "entrenar_clf(model=knn,X_train=x_train,X_test=x_test,y_train=y_train,y_test=y_test,tittle=\"matriz\")"
   ]
  },
  {
   "cell_type": "code",
   "execution_count": 110,
   "metadata": {},
   "outputs": [
    {
     "data": {
      "image/png": "[encoded data removed]",
      "text/plain": [
       "<Figure size 432x288 with 1 Axes>"
      ]
     },
     "metadata": {},
     "output_type": "display_data"
    }
   ],
   "source": [
    "plot_roc_curve(model=knn,X_test=x_test,y_test=y_test)"
   ]
  },
  {
   "cell_type": "code",
   "execution_count": null,
   "metadata": {},
   "outputs": [],
   "source": []
  },
  {
   "cell_type": "code",
   "execution_count": null,
   "metadata": {},
   "outputs": [],
   "source": []
  }
 ],
 "metadata": {
  "kernelspec": {
   "display_name": "Python 3",
   "language": "python",
   "name": "python3"
  },
  "language_info": {
   "codemirror_mode": {
    "name": "ipython",
    "version": 3
   },
   "file_extension": ".py",
   "mimetype": "text/x-python",
   "name": "python",
   "nbconvert_exporter": "python",
   "pygments_lexer": "ipython3",
   "version": "3.6.5"
  }
 },
 "nbformat": 4,
 "nbformat_minor": 2
}
