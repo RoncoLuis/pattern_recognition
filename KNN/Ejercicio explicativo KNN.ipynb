{
 "cells": [
  {
   "cell_type": "markdown",
   "metadata": {},
   "source": [
    "# Clasificador KNN\n",
    "## desarrollo del algoritmo\n",
    "### usando base de datos breast-cancer-wisconsin\n",
    "*basado en distancia euclídia*"
   ]
  },
  {
   "cell_type": "code",
   "execution_count": 1,
   "metadata": {},
   "outputs": [],
   "source": [
    "import numpy as np #para trabajar con los datos\n",
    "import matplotlib.pyplot as plt #para realizar graficas\n",
    "from matplotlib import style #para darle estilos a las gráficas\n",
    "import warnings\n",
    "from math import sqrt\n",
    "from collections import Counter #para establecer un sistema de votos"
   ]
  },
  {
   "cell_type": "code",
   "execution_count": 2,
   "metadata": {},
   "outputs": [],
   "source": [
    "dataset = {\n",
    "    'k':[[1,2],[2,3],[3,1]],\n",
    "    'r':[[6,5],[7,7],[8,6]]\n",
    "}\n",
    "new_point = [5,7]"
   ]
  },
  {
   "cell_type": "code",
   "execution_count": 3,
   "metadata": {},
   "outputs": [
    {
     "data": {
      "text/plain": [
       "<matplotlib.collections.PathCollection at 0x209e0cef5f8>"
      ]
     },
     "execution_count": 3,
     "metadata": {},
     "output_type": "execute_result"
    },
    {
     "data": {
      "image/png": "[encoded data removed]",
      "text/plain": [
       "<Figure size 432x288 with 1 Axes>"
      ]
     },
     "metadata": {},
     "output_type": "display_data"
    }
   ],
   "source": [
    "#usando un doble array para pintar el dataset\n",
    "[[plt.scatter(ii[0],ii[1],s=50,color=i) for ii in dataset[i]] for i in dataset]\n",
    "plt.scatter(new_point[0],new_point[1],s=100) #s=el tamaño del punto"
   ]
  },
  {
   "cell_type": "code",
   "execution_count": 4,
   "metadata": {},
   "outputs": [],
   "source": [
    "#definir la funcion knn\n",
    "#distancia euclidia a mano\n",
    "#d = sqrt((feature[0]-predict[0]))**2+(feature[1]-predict[1]**2)\n",
    "#distancia euclidia con numpy\n",
    "#d = np.sqrt(np.sum(np.array(feature)-np.array(predict))**2)\n",
    "#tercer modo de calcular distancia euclidiana\n",
    "#mide la magnitud de un vector, que es lo mismo que calcular la distancia\n",
    "def k_nearest_neighbors(data, predict, k = 3, verbose=False):\n",
    "    if len(data) >=k:\n",
    "        warnings.warn(\"K es un valor menor que el número total de elementos a votar\")        \n",
    "    distances = []\n",
    "    for group in data:\n",
    "        for feature in data[group]:\n",
    "            d = np.linalg.norm(np.array(feature) - np.array(predict))\n",
    "            distances.append([d, group])\n",
    "    if verbose:       \n",
    "        print(distances)\n",
    "    votes = [i[1] for i in sorted(distances)[:k]]\n",
    "    if verbose:\n",
    "        print(votes)\n",
    "    vote_result = Counter(votes).most_common(1)[0][0]\n",
    "    return vote_result"
   ]
  },
  {
   "cell_type": "code",
   "execution_count": 5,
   "metadata": {},
   "outputs": [
    {
     "name": "stdout",
     "output_type": "stream",
     "text": [
      "[[6.4031242374328485, 'k'], [5.0, 'k'], [6.324555320336759, 'k'], [2.23606797749979, 'r'], [2.0, 'r'], [3.1622776601683795, 'r']]\n",
      "['r', 'r', 'r']\n"
     ]
    },
    {
     "data": {
      "text/plain": [
       "'r'"
      ]
     },
     "execution_count": 5,
     "metadata": {},
     "output_type": "execute_result"
    }
   ],
   "source": [
    "result = k_nearest_neighbors(dataset,new_point,verbose=True)\n",
    "result #el resultado es una matriz de distancias"
   ]
  },
  {
   "cell_type": "code",
   "execution_count": 6,
   "metadata": {},
   "outputs": [
    {
     "data": {
      "text/plain": [
       "<matplotlib.collections.PathCollection at 0x209e0dce160>"
      ]
     },
     "execution_count": 6,
     "metadata": {},
     "output_type": "execute_result"
    },
    {
     "data": {
      "image/png": "[encoded data removed]",
      "text/plain": [
       "<Figure size 432x288 with 1 Axes>"
      ]
     },
     "metadata": {},
     "output_type": "display_data"
    }
   ],
   "source": [
    "#usando un doble array para pintar el dataset\n",
    "[[plt.scatter(ii[0],ii[1],s=50,color=i) for ii in dataset[i]] for i in dataset]\n",
    "plt.scatter(new_point[0],new_point[1],s=100, color=result) #s=el tamaño del punto"
   ]
  },
  {
   "cell_type": "code",
   "execution_count": 7,
   "metadata": {},
   "outputs": [
    {
     "name": "stdout",
     "output_type": "stream",
     "text": [
      "[[2.23606797749979, 'k'], [1.0, 'k'], [3.1622776601683795, 'k'], [4.123105625617661, 'r'], [5.830951894845301, 'r'], [6.324555320336759, 'r']]\n",
      "['k', 'k', 'k']\n"
     ]
    },
    {
     "data": {
      "text/plain": [
       "'k'"
      ]
     },
     "execution_count": 7,
     "metadata": {},
     "output_type": "execute_result"
    }
   ],
   "source": [
    "#poniendo un punto donde claramente pertenece a los negros\n",
    "new_point = [2,4]\n",
    "result = k_nearest_neighbors(dataset,new_point,verbose=True)\n",
    "result #el resultado es una matriz de distancias"
   ]
  },
  {
   "cell_type": "code",
   "execution_count": 8,
   "metadata": {},
   "outputs": [
    {
     "data": {
      "text/plain": [
       "<matplotlib.collections.PathCollection at 0x209e0e82240>"
      ]
     },
     "execution_count": 8,
     "metadata": {},
     "output_type": "execute_result"
    },
    {
     "data": {
      "image/png": "[encoded data removed]",
      "text/plain": [
       "<Figure size 432x288 with 1 Axes>"
      ]
     },
     "metadata": {},
     "output_type": "display_data"
    }
   ],
   "source": [
    "[[plt.scatter(ii[0],ii[1],s=50,color=i) for ii in dataset[i]] for i in dataset]\n",
    "plt.scatter(new_point[0],new_point[1],s=100, color=result)"
   ]
  },
  {
   "cell_type": "code",
   "execution_count": 9,
   "metadata": {},
   "outputs": [
    {
     "name": "stdout",
     "output_type": "stream",
     "text": [
      "[[3.905124837953327, 'k'], [2.5, 'k'], [3.640054944640259, 'k'], [2.0615528128088303, 'r'], [3.905124837953327, 'r'], [4.272001872658765, 'r']]\n",
      "['r', 'k', 'k']\n"
     ]
    },
    {
     "data": {
      "text/plain": [
       "'k'"
      ]
     },
     "execution_count": 9,
     "metadata": {},
     "output_type": "execute_result"
    }
   ],
   "source": [
    "#ahora se prueba poniendo un punto en un lugar dudoso (4,4.5)\n",
    "new_point = [4,4.5]\n",
    "result = k_nearest_neighbors(dataset,new_point,verbose=True)\n",
    "result #el resultado es una matriz de distancias"
   ]
  },
  {
   "cell_type": "code",
   "execution_count": 10,
   "metadata": {},
   "outputs": [
    {
     "data": {
      "text/plain": [
       "<matplotlib.collections.PathCollection at 0x209e0e62828>"
      ]
     },
     "execution_count": 10,
     "metadata": {},
     "output_type": "execute_result"
    },
    {
     "data": {
      "image/png": "[encoded data removed]",
      "text/plain": [
       "<Figure size 432x288 with 1 Axes>"
      ]
     },
     "metadata": {},
     "output_type": "display_data"
    }
   ],
   "source": [
    "[[plt.scatter(ii[0],ii[1],s=50,color=i) for ii in dataset[i]] for i in dataset]\n",
    "plt.scatter(new_point[0],new_point[1],s=100, color=result)"
   ]
  },
  {
   "cell_type": "markdown",
   "metadata": {},
   "source": [
    "## aplicando algoritmo de knn con base de datos breast-cancer-wisconsin"
   ]
  },
  {
   "cell_type": "code",
   "execution_count": 11,
   "metadata": {},
   "outputs": [],
   "source": [
    "import pandas as pd"
   ]
  },
  {
   "cell_type": "code",
   "execution_count": 12,
   "metadata": {},
   "outputs": [],
   "source": [
    "df = pd.read_csv(\"breast-cancer-wisconsin.csv\")"
   ]
  },
  {
   "cell_type": "code",
   "execution_count": 13,
   "metadata": {},
   "outputs": [],
   "source": [
    "df.columns = [\"id\",\"V1\",\"V2\",\"V3\",\"V4\",\"V5\",\"V6\",\"V7\",\"V8\",\"V9\",\"clase\"]"
   ]
  },
  {
   "cell_type": "code",
   "execution_count": 14,
   "metadata": {},
   "outputs": [],
   "source": [
    "df.drop([\"id\"],1,inplace=True)"
   ]
  },
  {
   "cell_type": "code",
   "execution_count": 15,
   "metadata": {},
   "outputs": [],
   "source": [
    "df.replace(\"?\",-99999,inplace=True)"
   ]
  },
  {
   "cell_type": "code",
   "execution_count": 16,
   "metadata": {},
   "outputs": [],
   "source": [
    "#conversion de los valores a flotantes y los crea como un array\n",
    "#que es lo que espera como argumento el algoritmo\n",
    "full_data = df.astype(float).values.tolist() "
   ]
  },
  {
   "cell_type": "code",
   "execution_count": 17,
   "metadata": {},
   "outputs": [],
   "source": [
    "#para dividir el conjunto en entrenamiento y prueba\n",
    "import random "
   ]
  },
  {
   "cell_type": "code",
   "execution_count": 18,
   "metadata": {},
   "outputs": [],
   "source": [
    "#es una segunda manera de dividir los datos en conjunto de entrenamiento y de prueba\n",
    "#esta función asemeja barajar los valores\n",
    "random.shuffle(full_data)"
   ]
  },
  {
   "cell_type": "code",
   "execution_count": 19,
   "metadata": {},
   "outputs": [],
   "source": [
    "#tamaño del conjunto de prueba 20%\n",
    "test_size = 0.2"
   ]
  },
  {
   "cell_type": "code",
   "execution_count": 20,
   "metadata": {},
   "outputs": [],
   "source": [
    "#diccionario que tendra como clave 2 y 4 \n",
    "train_set = {\n",
    "    2:[],\n",
    "    4:[]\n",
    "}\n",
    "test_set = {\n",
    "    2:[],\n",
    "    4:[]\n",
    "}"
   ]
  },
  {
   "cell_type": "code",
   "execution_count": 25,
   "metadata": {},
   "outputs": [],
   "source": [
    "#de train_data (entrenamiento), quedarse con todos los elementos menos el ultimo 20%\n",
    "train_data = full_data[:-int(test_size*len(full_data))]\n",
    "#test_data (prueba), toma el 20% restante que se dejo de train_data\n",
    "test_data  = full_data[-int(test_size*len(full_data)):]"
   ]
  },
  {
   "cell_type": "code",
   "execution_count": 26,
   "metadata": {},
   "outputs": [],
   "source": [
    "#train_data y test_data siguen siendo arrays, por lo tanto se llenaran con los diccionarios\n",
    "#train_set y test_set\n",
    "for i in train_data:\n",
    "    train_set[i[-1]].append(i[:-1])\n",
    "    \n",
    "for i in test_data:\n",
    "    test_set[i[-1]].append(i[:-1])\n"
   ]
  },
  {
   "cell_type": "code",
   "execution_count": 32,
   "metadata": {},
   "outputs": [
    {
     "name": "stdout",
     "output_type": "stream",
     "text": [
      "eficacia del knn implementado por nosotros = 100.0\n"
     ]
    }
   ],
   "source": [
    "#entrenando\n",
    "correct = 0\n",
    "total = 0\n",
    "for group in test_set:\n",
    "    for data in  test_set[group]:\n",
    "        vote = k_nearest_neighbors(train_set, data, k=5)\n",
    "    if group == vote:\n",
    "        correct+=1\n",
    "    total +=1\n",
    "print(\"eficacia del knn implementado por nosotros =\",correct/total*100)"
   ]
  },
  {
   "cell_type": "code",
   "execution_count": 33,
   "metadata": {},
   "outputs": [
    {
     "name": "stdout",
     "output_type": "stream",
     "text": [
      "eficacia del knn implementado por nosotros = 100.0\n"
     ]
    }
   ],
   "source": [
    "#testeando\n",
    "correct = 0\n",
    "total = 0\n",
    "for group in test_set:\n",
    "    for data in  test_set[group]:\n",
    "        vote = k_nearest_neighbors(test_set, data, k=5)\n",
    "    if group == vote:\n",
    "        correct+=1\n",
    "    total +=1\n",
    "print(\"eficacia del knn implementado por nosotros =\",correct/total*100)"
   ]
  },
  {
   "cell_type": "code",
   "execution_count": 35,
   "metadata": {},
   "outputs": [
    {
     "data": {
      "text/plain": [
       "4"
      ]
     },
     "execution_count": 35,
     "metadata": {},
     "output_type": "execute_result"
    }
   ],
   "source": [
    "vote = k_nearest_neighbors(test_set, data, k=5)\n",
    "vote"
   ]
  },
  {
   "cell_type": "code",
   "execution_count": null,
   "metadata": {},
   "outputs": [],
   "source": []
  }
 ],
 "metadata": {
  "kernelspec": {
   "display_name": "Python 3",
   "language": "python",
   "name": "python3"
  },
  "language_info": {
   "codemirror_mode": {
    "name": "ipython",
    "version": 3
   },
   "file_extension": ".py",
   "mimetype": "text/x-python",
   "name": "python",
   "nbconvert_exporter": "python",
   "pygments_lexer": "ipython3",
   "version": "3.6.5"
  }
 },
 "nbformat": 4,
 "nbformat_minor": 2
}
