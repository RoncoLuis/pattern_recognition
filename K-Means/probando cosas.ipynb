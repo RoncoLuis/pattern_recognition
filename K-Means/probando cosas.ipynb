{
 "cells": [
  {
   "cell_type": "code",
   "execution_count": 1,
   "metadata": {},
   "outputs": [],
   "source": [
    "import numpy as np\n",
    "import pandas as pd\n",
    "import matplotlib.pyplot as plt\n",
    "from scipy.spatial.distance import pdist,squareform\n",
    "from scipy.cluster.hierarchy import linkage,dendrogram"
   ]
  },
  {
   "cell_type": "code",
   "execution_count": 4,
   "metadata": {},
   "outputs": [],
   "source": [
    "np.random.seed(12345)\n",
    "clase1 = np.random.normal(loc=1,scale=0.2,size=(4,2))\n",
    "clase2 = np.random.normal(loc=2,scale=0.2,size=(4,2))\n",
    "clase3 = np.random.normal(loc=3,scale=0.2,size=(4,2))\n",
    "#------------------------------------------------------\n",
    "A = [5.5,3.2,4.4,2.1]\n",
    "B = [4.2,4,2.1,3.5]\n",
    "C = [5.5,3.4,4.1,2.2]\n",
    "D = [5,4,3,2]"
   ]
  },
  {
   "cell_type": "code",
   "execution_count": 5,
   "metadata": {},
   "outputs": [],
   "source": [
    "apilado = np.vstack((clase1,clase2,clase3))\n",
    "ejemplo = np.vstack((A,B,C,D))"
   ]
  },
  {
   "cell_type": "code",
   "execution_count": 20,
   "metadata": {},
   "outputs": [],
   "source": [
    "x =  apilado[:,0]\n",
    "y =  apilado[:,1]"
   ]
  },
  {
   "cell_type": "code",
   "execution_count": 20,
   "metadata": {},
   "outputs": [
    {
     "name": "stdout",
     "output_type": "stream",
     "text": [
      "(4,)\n",
      "(4,)\n"
     ]
    },
    {
     "data": {
      "text/plain": [
       "<matplotlib.collections.PathCollection at 0x1ff0b7d7128>"
      ]
     },
     "execution_count": 20,
     "metadata": {},
     "output_type": "execute_result"
    },
    {
     "data": {
      "image/png": "[encoded data removed]",
      "text/plain": [
       "<Figure size 432x288 with 1 Axes>"
      ]
     },
     "metadata": {},
     "output_type": "display_data"
    }
   ],
   "source": [
    "print(ejemplo[:,0].shape)\n",
    "print(ejemplo[:,1].shape)\n",
    "plt.scatter(x=ejemplo[:,0],y=ejemplo[:,3])"
   ]
  },
  {
   "cell_type": "code",
   "execution_count": 22,
   "metadata": {},
   "outputs": [
    {
     "data": {
      "image/png": "[encoded data removed]",
      "text/plain": [
       "<Figure size 432x288 with 1 Axes>"
      ]
     },
     "metadata": {},
     "output_type": "display_data"
    }
   ],
   "source": [
    "plt.scatter(x,y,s=60)\n",
    "for i in range(12):\n",
    "    plt.text(x[i]-0.025,y[i]+0.1,i)"
   ]
  },
  {
   "cell_type": "code",
   "execution_count": 22,
   "metadata": {},
   "outputs": [
    {
     "data": {
      "text/html": [
       "<div>\n",
       "<style scoped>\n",
       "    .dataframe tbody tr th:only-of-type {\n",
       "        vertical-align: middle;\n",
       "    }\n",
       "\n",
       "    .dataframe tbody tr th {\n",
       "        vertical-align: top;\n",
       "    }\n",
       "\n",
       "    .dataframe thead th {\n",
       "        text-align: right;\n",
       "    }\n",
       "</style>\n",
       "<table border=\"1\" class=\"dataframe\">\n",
       "  <thead>\n",
       "    <tr style=\"text-align: right;\">\n",
       "      <th></th>\n",
       "      <th>A</th>\n",
       "      <th>B</th>\n",
       "      <th>C</th>\n",
       "      <th>D</th>\n",
       "    </tr>\n",
       "  </thead>\n",
       "  <tbody>\n",
       "    <tr>\n",
       "      <th>0</th>\n",
       "      <td>5.5</td>\n",
       "      <td>3.2</td>\n",
       "      <td>4.4</td>\n",
       "      <td>2.1</td>\n",
       "    </tr>\n",
       "    <tr>\n",
       "      <th>1</th>\n",
       "      <td>4.2</td>\n",
       "      <td>4.0</td>\n",
       "      <td>2.1</td>\n",
       "      <td>3.5</td>\n",
       "    </tr>\n",
       "    <tr>\n",
       "      <th>2</th>\n",
       "      <td>5.5</td>\n",
       "      <td>3.4</td>\n",
       "      <td>4.1</td>\n",
       "      <td>2.2</td>\n",
       "    </tr>\n",
       "    <tr>\n",
       "      <th>3</th>\n",
       "      <td>5.0</td>\n",
       "      <td>4.0</td>\n",
       "      <td>3.0</td>\n",
       "      <td>2.0</td>\n",
       "    </tr>\n",
       "  </tbody>\n",
       "</table>\n",
       "</div>"
      ],
      "text/plain": [
       "     A    B    C    D\n",
       "0  5.5  3.2  4.4  2.1\n",
       "1  4.2  4.0  2.1  3.5\n",
       "2  5.5  3.4  4.1  2.2\n",
       "3  5.0  4.0  3.0  2.0"
      ]
     },
     "execution_count": 22,
     "metadata": {},
     "output_type": "execute_result"
    }
   ],
   "source": [
    "df = pd.DataFrame(apilado,columns=['x','y'])\n",
    "example = pd.DataFrame(ejemplo,columns=['A','B','C','D'])\n",
    "example"
   ]
  },
  {
   "cell_type": "code",
   "execution_count": 23,
   "metadata": {},
   "outputs": [
    {
     "data": {
      "text/plain": [
       "(6,)"
      ]
     },
     "execution_count": 23,
     "metadata": {},
     "output_type": "execute_result"
    }
   ],
   "source": [
    "dm = pdist(df,metric='euclidean')\n",
    "dist_example = pdist(example,metric='euclidean')\n",
    "dist_example.shape"
   ]
  },
  {
   "cell_type": "code",
   "execution_count": 33,
   "metadata": {},
   "outputs": [
    {
     "data": {
      "text/plain": [
       "(3, 4)"
      ]
     },
     "execution_count": 33,
     "metadata": {},
     "output_type": "execute_result"
    }
   ],
   "source": [
    "z = linkage(dm,method='complete')\n",
    "z_example = linkage(dist_example,method='complete')\n",
    "z_example.shape"
   ]
  },
  {
   "cell_type": "code",
   "execution_count": 34,
   "metadata": {},
   "outputs": [
    {
     "data": {
      "text/plain": [
       "<matplotlib.legend.Legend at 0x1ff0ca9e828>"
      ]
     },
     "execution_count": 34,
     "metadata": {},
     "output_type": "execute_result"
    },
    {
     "data": {
      "image/png": "[encoded data removed]",
      "text/plain": [
       "<Figure size 576x432 with 1 Axes>"
      ]
     },
     "metadata": {},
     "output_type": "display_data"
    }
   ],
   "source": [
    "fig_ex = plt.gcf()\n",
    "fig_ex.set_size_inches(8,6)\n",
    "fig_ex.savefig('../../../../Downloads/MCC/Reconocimiento de patrones/fig')\n",
    "dendrogram(z_example)\n",
    "plt.legend(['A','B','C','D'])"
   ]
  },
  {
   "cell_type": "code",
   "execution_count": 37,
   "metadata": {},
   "outputs": [
    {
     "data": {
      "text/plain": [
       "<matplotlib.legend.Legend at 0x1248ac070b8>"
      ]
     },
     "execution_count": 37,
     "metadata": {},
     "output_type": "execute_result"
    },
    {
     "data": {
      "image/png": "[encoded data removed]",
      "text/plain": [
       "<Figure size 432x288 with 1 Axes>"
      ]
     },
     "metadata": {},
     "output_type": "display_data"
    }
   ],
   "source": [
    "dendrogram(z)#argumento orientation='right'\n",
    "plt.title('Título dendograma')\n",
    "plt.legend(['clase1','clase2','clase3'])"
   ]
  },
  {
   "cell_type": "code",
   "execution_count": 38,
   "metadata": {},
   "outputs": [
    {
     "data": {
      "text/plain": [
       "(12, 12)"
      ]
     },
     "execution_count": 38,
     "metadata": {},
     "output_type": "execute_result"
    }
   ],
   "source": [
    "#las distancias también se pueden representar en forma de matriz cuadrada\n",
    "#para eso es la funcion importada squareform\n",
    "matriz_dist = squareform(dm)\n",
    "matriz_dist.shape"
   ]
  },
  {
   "cell_type": "code",
   "execution_count": 41,
   "metadata": {},
   "outputs": [
    {
     "data": {
      "text/html": [
       "<div>\n",
       "<style scoped>\n",
       "    .dataframe tbody tr th:only-of-type {\n",
       "        vertical-align: middle;\n",
       "    }\n",
       "\n",
       "    .dataframe tbody tr th {\n",
       "        vertical-align: top;\n",
       "    }\n",
       "\n",
       "    .dataframe thead th {\n",
       "        text-align: right;\n",
       "    }\n",
       "</style>\n",
       "<table border=\"1\" class=\"dataframe\">\n",
       "  <thead>\n",
       "    <tr style=\"text-align: right;\">\n",
       "      <th></th>\n",
       "      <th>0</th>\n",
       "      <th>1</th>\n",
       "      <th>2</th>\n",
       "      <th>3</th>\n",
       "      <th>4</th>\n",
       "      <th>5</th>\n",
       "      <th>6</th>\n",
       "      <th>7</th>\n",
       "      <th>8</th>\n",
       "      <th>9</th>\n",
       "      <th>10</th>\n",
       "      <th>11</th>\n",
       "    </tr>\n",
       "  </thead>\n",
       "  <tbody>\n",
       "    <tr>\n",
       "      <th>0</th>\n",
       "      <td>0.000000</td>\n",
       "      <td>0.216297</td>\n",
       "      <td>0.471052</td>\n",
       "      <td>0.071404</td>\n",
       "      <td>1.660716</td>\n",
       "      <td>1.399818</td>\n",
       "      <td>1.450370</td>\n",
       "      <td>1.699922</td>\n",
       "      <td>2.457629</td>\n",
       "      <td>2.989830</td>\n",
       "      <td>2.781168</td>\n",
       "      <td>3.182752</td>\n",
       "    </tr>\n",
       "    <tr>\n",
       "      <th>1</th>\n",
       "      <td>0.216297</td>\n",
       "      <td>0.000000</td>\n",
       "      <td>0.631679</td>\n",
       "      <td>0.207493</td>\n",
       "      <td>1.852719</td>\n",
       "      <td>1.558721</td>\n",
       "      <td>1.637529</td>\n",
       "      <td>1.883939</td>\n",
       "      <td>2.655293</td>\n",
       "      <td>3.168063</td>\n",
       "      <td>2.975333</td>\n",
       "      <td>3.349478</td>\n",
       "    </tr>\n",
       "    <tr>\n",
       "      <th>2</th>\n",
       "      <td>0.471052</td>\n",
       "      <td>0.631679</td>\n",
       "      <td>0.000000</td>\n",
       "      <td>0.435589</td>\n",
       "      <td>1.233151</td>\n",
       "      <td>0.931038</td>\n",
       "      <td>1.013153</td>\n",
       "      <td>1.255934</td>\n",
       "      <td>2.041599</td>\n",
       "      <td>2.536687</td>\n",
       "      <td>2.355238</td>\n",
       "      <td>2.719173</td>\n",
       "    </tr>\n",
       "    <tr>\n",
       "      <th>3</th>\n",
       "      <td>0.071404</td>\n",
       "      <td>0.207493</td>\n",
       "      <td>0.435589</td>\n",
       "      <td>0.000000</td>\n",
       "      <td>1.646764</td>\n",
       "      <td>1.366587</td>\n",
       "      <td>1.432878</td>\n",
       "      <td>1.680478</td>\n",
       "      <td>2.448278</td>\n",
       "      <td>2.967282</td>\n",
       "      <td>2.769044</td>\n",
       "      <td>3.154169</td>\n",
       "    </tr>\n",
       "    <tr>\n",
       "      <th>4</th>\n",
       "      <td>1.660716</td>\n",
       "      <td>1.852719</td>\n",
       "      <td>1.233151</td>\n",
       "      <td>1.646764</td>\n",
       "      <td>0.000000</td>\n",
       "      <td>0.510757</td>\n",
       "      <td>0.226223</td>\n",
       "      <td>0.137191</td>\n",
       "      <td>0.810087</td>\n",
       "      <td>1.353503</td>\n",
       "      <td>1.122903</td>\n",
       "      <td>1.592669</td>\n",
       "    </tr>\n",
       "    <tr>\n",
       "      <th>5</th>\n",
       "      <td>1.399818</td>\n",
       "      <td>1.558721</td>\n",
       "      <td>0.931038</td>\n",
       "      <td>1.366587</td>\n",
       "      <td>0.510757</td>\n",
       "      <td>0.000000</td>\n",
       "      <td>0.338358</td>\n",
       "      <td>0.441972</td>\n",
       "      <td>1.250009</td>\n",
       "      <td>1.629337</td>\n",
       "      <td>1.520526</td>\n",
       "      <td>1.791855</td>\n",
       "    </tr>\n",
       "    <tr>\n",
       "      <th>6</th>\n",
       "      <td>1.450370</td>\n",
       "      <td>1.637529</td>\n",
       "      <td>1.013153</td>\n",
       "      <td>1.432878</td>\n",
       "      <td>0.226223</td>\n",
       "      <td>0.338358</td>\n",
       "      <td>0.000000</td>\n",
       "      <td>0.252527</td>\n",
       "      <td>1.034797</td>\n",
       "      <td>1.544725</td>\n",
       "      <td>1.342516</td>\n",
       "      <td>1.762332</td>\n",
       "    </tr>\n",
       "    <tr>\n",
       "      <th>7</th>\n",
       "      <td>1.699922</td>\n",
       "      <td>1.883939</td>\n",
       "      <td>1.255934</td>\n",
       "      <td>1.680478</td>\n",
       "      <td>0.137191</td>\n",
       "      <td>0.441972</td>\n",
       "      <td>0.252527</td>\n",
       "      <td>0.000000</td>\n",
       "      <td>0.817509</td>\n",
       "      <td>1.292542</td>\n",
       "      <td>1.108671</td>\n",
       "      <td>1.511526</td>\n",
       "    </tr>\n",
       "    <tr>\n",
       "      <th>8</th>\n",
       "      <td>2.457629</td>\n",
       "      <td>2.655293</td>\n",
       "      <td>2.041599</td>\n",
       "      <td>2.448278</td>\n",
       "      <td>0.810087</td>\n",
       "      <td>1.250009</td>\n",
       "      <td>1.034797</td>\n",
       "      <td>0.817509</td>\n",
       "      <td>0.000000</td>\n",
       "      <td>0.734254</td>\n",
       "      <td>0.338092</td>\n",
       "      <td>1.058117</td>\n",
       "    </tr>\n",
       "    <tr>\n",
       "      <th>9</th>\n",
       "      <td>2.989830</td>\n",
       "      <td>3.168063</td>\n",
       "      <td>2.536687</td>\n",
       "      <td>2.967282</td>\n",
       "      <td>1.353503</td>\n",
       "      <td>1.629337</td>\n",
       "      <td>1.544725</td>\n",
       "      <td>1.292542</td>\n",
       "      <td>0.734254</td>\n",
       "      <td>0.000000</td>\n",
       "      <td>0.478200</td>\n",
       "      <td>0.336787</td>\n",
       "    </tr>\n",
       "    <tr>\n",
       "      <th>10</th>\n",
       "      <td>2.781168</td>\n",
       "      <td>2.975333</td>\n",
       "      <td>2.355238</td>\n",
       "      <td>2.769044</td>\n",
       "      <td>1.122903</td>\n",
       "      <td>1.520526</td>\n",
       "      <td>1.342516</td>\n",
       "      <td>1.108671</td>\n",
       "      <td>0.338092</td>\n",
       "      <td>0.478200</td>\n",
       "      <td>0.000000</td>\n",
       "      <td>0.814832</td>\n",
       "    </tr>\n",
       "    <tr>\n",
       "      <th>11</th>\n",
       "      <td>3.182752</td>\n",
       "      <td>3.349478</td>\n",
       "      <td>2.719173</td>\n",
       "      <td>3.154169</td>\n",
       "      <td>1.592669</td>\n",
       "      <td>1.791855</td>\n",
       "      <td>1.762332</td>\n",
       "      <td>1.511526</td>\n",
       "      <td>1.058117</td>\n",
       "      <td>0.336787</td>\n",
       "      <td>0.814832</td>\n",
       "      <td>0.000000</td>\n",
       "    </tr>\n",
       "  </tbody>\n",
       "</table>\n",
       "</div>"
      ],
      "text/plain": [
       "          0         1         2         3         4         5         6   \\\n",
       "0   0.000000  0.216297  0.471052  0.071404  1.660716  1.399818  1.450370   \n",
       "1   0.216297  0.000000  0.631679  0.207493  1.852719  1.558721  1.637529   \n",
       "2   0.471052  0.631679  0.000000  0.435589  1.233151  0.931038  1.013153   \n",
       "3   0.071404  0.207493  0.435589  0.000000  1.646764  1.366587  1.432878   \n",
       "4   1.660716  1.852719  1.233151  1.646764  0.000000  0.510757  0.226223   \n",
       "5   1.399818  1.558721  0.931038  1.366587  0.510757  0.000000  0.338358   \n",
       "6   1.450370  1.637529  1.013153  1.432878  0.226223  0.338358  0.000000   \n",
       "7   1.699922  1.883939  1.255934  1.680478  0.137191  0.441972  0.252527   \n",
       "8   2.457629  2.655293  2.041599  2.448278  0.810087  1.250009  1.034797   \n",
       "9   2.989830  3.168063  2.536687  2.967282  1.353503  1.629337  1.544725   \n",
       "10  2.781168  2.975333  2.355238  2.769044  1.122903  1.520526  1.342516   \n",
       "11  3.182752  3.349478  2.719173  3.154169  1.592669  1.791855  1.762332   \n",
       "\n",
       "          7         8         9         10        11  \n",
       "0   1.699922  2.457629  2.989830  2.781168  3.182752  \n",
       "1   1.883939  2.655293  3.168063  2.975333  3.349478  \n",
       "2   1.255934  2.041599  2.536687  2.355238  2.719173  \n",
       "3   1.680478  2.448278  2.967282  2.769044  3.154169  \n",
       "4   0.137191  0.810087  1.353503  1.122903  1.592669  \n",
       "5   0.441972  1.250009  1.629337  1.520526  1.791855  \n",
       "6   0.252527  1.034797  1.544725  1.342516  1.762332  \n",
       "7   0.000000  0.817509  1.292542  1.108671  1.511526  \n",
       "8   0.817509  0.000000  0.734254  0.338092  1.058117  \n",
       "9   1.292542  0.734254  0.000000  0.478200  0.336787  \n",
       "10  1.108671  0.338092  0.478200  0.000000  0.814832  \n",
       "11  1.511526  1.058117  0.336787  0.814832  0.000000  "
      ]
     },
     "execution_count": 41,
     "metadata": {},
     "output_type": "execute_result"
    }
   ],
   "source": [
    "#matriz simétrica, la distancia es 0 con el mismo\n",
    "pd.DataFrame(matriz_dist)"
   ]
  },
  {
   "cell_type": "markdown",
   "metadata": {},
   "source": [
    "# probando tips de PCA del libro Python machine learning"
   ]
  },
  {
   "cell_type": "code",
   "execution_count": 2,
   "metadata": {},
   "outputs": [],
   "source": [
    "from sklearn.cross_validation import train_test_split\n",
    "from sklearn.preprocessing import StandardScaler"
   ]
  },
  {
   "cell_type": "code",
   "execution_count": 6,
   "metadata": {},
   "outputs": [],
   "source": [
    "df_wine = pd.read_csv('../datasets/wine-dataset/wine.csv',header=None)"
   ]
  },
  {
   "cell_type": "code",
   "execution_count": 7,
   "metadata": {},
   "outputs": [],
   "source": [
    "#obtener X e Y en una sola linea\n",
    "X,y = df_wine.iloc[:,1:],df_wine.iloc[:,0]"
   ]
  },
  {
   "cell_type": "code",
   "execution_count": 11,
   "metadata": {},
   "outputs": [],
   "source": [
    "X_train,X_test,y_train,y_test = train_test_split(X,y,test_size=0.3,random_state=0)"
   ]
  },
  {
   "cell_type": "code",
   "execution_count": 12,
   "metadata": {},
   "outputs": [],
   "source": [
    "sc = StandardScaler()"
   ]
  },
  {
   "cell_type": "code",
   "execution_count": 13,
   "metadata": {},
   "outputs": [],
   "source": [
    "#estandarizando X\n",
    "X_train_std = sc.fit_transform(X_train)\n",
    "X_test_std = sc.fit_transform(X_test)"
   ]
  },
  {
   "cell_type": "markdown",
   "metadata": {},
   "source": [
    "## obteniedo eigenpairs de la matriz de covarianza"
   ]
  },
  {
   "cell_type": "code",
   "execution_count": 20,
   "metadata": {},
   "outputs": [
    {
     "name": "stdout",
     "output_type": "stream",
     "text": [
      "\n",
      "Eigenvalues \n",
      "[4.8923083  2.46635032 1.42809973 1.01233462 0.84906459 0.60181514\n",
      " 0.52251546 0.08414846 0.33051429 0.29595018 0.16831254 0.21432212\n",
      " 0.2399553 ]\n"
     ]
    }
   ],
   "source": [
    "cov_mat = np.cov(X_train_std.T)\n",
    "#obteniendo los eigenpairs\n",
    "eigen_vals,eigen_vecs = np.linalg.eig(cov_mat)\n",
    "print('\\nEigenvalues \\n%s' % eigen_vals)\n",
    "#print('\\nEigenvectors \\n%s' % eigen_vecs)"
   ]
  },
  {
   "cell_type": "code",
   "execution_count": 22,
   "metadata": {},
   "outputs": [],
   "source": [
    "#basados en los top  eigvecs, mostramos los mas informativos con una explicacion de varianzas\n",
    "tot = sum(eigen_vals)\n",
    "var_exp = [(i/tot) for i in sorted(eigen_vals,reverse=True)]\n",
    "cum_var_exp = np.cumsum(var_exp)"
   ]
  },
  {
   "cell_type": "code",
   "execution_count": 29,
   "metadata": {},
   "outputs": [
    {
     "data": {
      "image/png": "[encoded data removed]",
      "text/plain": [
       "<Figure size 1008x576 with 1 Axes>"
      ]
     },
     "metadata": {},
     "output_type": "display_data"
    }
   ],
   "source": [
    "fig= plt.gcf()\n",
    "#guardar fig en una ruta\n",
    "#fig.savefig('test2png.png', dpi=100)\n",
    "fig.set_size_inches(14,8)\n",
    "plt.bar(range(1,14),var_exp,alpha=0.5,align='center',label='varianza individual explicada')\n",
    "plt.step(range(1,14),cum_var_exp,where='mid',label='Varianza acumulada explicada')\n",
    "plt.ylabel('Proporción de varianza explicada')\n",
    "plt.xlabel('Componentes principales')\n",
    "plt.legend(loc='best') #buen truco para poner los legends\n",
    "plt.show()"
   ]
  },
  {
   "cell_type": "code",
   "execution_count": 30,
   "metadata": {},
   "outputs": [],
   "source": [
    "eigen_pairs = [(np.abs(eigen_vals[i]) for i in range(len(eigen_vals)))]\n",
    "eigen_pairs.sort(reverse=True)"
   ]
  },
  {
   "cell_type": "code",
   "execution_count": 33,
   "metadata": {},
   "outputs": [
    {
     "ename": "TypeError",
     "evalue": "'generator' object is not subscriptable",
     "output_type": "error",
     "traceback": [
      "\u001b[1;31m---------------------------------------------------------------------------\u001b[0m",
      "\u001b[1;31mTypeError\u001b[0m                                 Traceback (most recent call last)",
      "\u001b[1;32m<ipython-input-33-52740b9c37ec>\u001b[0m in \u001b[0;36m<module>\u001b[1;34m()\u001b[0m\n\u001b[1;32m----> 1\u001b[1;33m \u001b[0mw\u001b[0m\u001b[1;33m=\u001b[0m \u001b[0mnp\u001b[0m\u001b[1;33m.\u001b[0m\u001b[0mhstack\u001b[0m\u001b[1;33m(\u001b[0m\u001b[1;33m(\u001b[0m\u001b[0meigen_pairs\u001b[0m\u001b[1;33m[\u001b[0m\u001b[1;36m0\u001b[0m\u001b[1;33m]\u001b[0m\u001b[1;33m[\u001b[0m\u001b[1;36m1\u001b[0m\u001b[1;33m]\u001b[0m\u001b[1;33m[\u001b[0m\u001b[1;33m:\u001b[0m\u001b[1;33m,\u001b[0m \u001b[0mnp\u001b[0m\u001b[1;33m.\u001b[0m\u001b[0mnewaxis\u001b[0m\u001b[1;33m]\u001b[0m\u001b[1;33m,\u001b[0m\u001b[0meigen_pairs\u001b[0m\u001b[1;33m[\u001b[0m\u001b[1;36m1\u001b[0m\u001b[1;33m]\u001b[0m\u001b[1;33m[\u001b[0m\u001b[1;36m1\u001b[0m\u001b[1;33m]\u001b[0m\u001b[1;33m[\u001b[0m\u001b[1;33m:\u001b[0m\u001b[1;33m,\u001b[0m \u001b[0mnp\u001b[0m\u001b[1;33m.\u001b[0m\u001b[0mnewaxis\u001b[0m\u001b[1;33m]\u001b[0m\u001b[1;33m)\u001b[0m\u001b[1;33m)\u001b[0m\u001b[1;33m\u001b[0m\u001b[0m\n\u001b[0m",
      "\u001b[1;31mTypeError\u001b[0m: 'generator' object is not subscriptable"
     ]
    }
   ],
   "source": [
    "w= np.hstack((eigen_pairs[0][1][:, np.newaxis],eigen_pairs[1][1][:, np.newaxis]))"
   ]
  },
  {
   "cell_type": "markdown",
   "metadata": {},
   "source": [
    "# Probando matriz distancia"
   ]
  },
  {
   "cell_type": "code",
   "execution_count": 34,
   "metadata": {},
   "outputs": [],
   "source": [
    "iris_ds = pd.read_csv('../datasets/iris_plant/iris_plant.csv')"
   ]
  },
  {
   "cell_type": "code",
   "execution_count": 36,
   "metadata": {},
   "outputs": [],
   "source": [
    "X,y = iris_ds[[\"sepal.length\",\"sepal.width\",\"petal.length\",\"petal.width\"]],iris_ds[[\"variety\"]]"
   ]
  },
  {
   "cell_type": "code",
   "execution_count": 42,
   "metadata": {},
   "outputs": [],
   "source": [
    "from scipy.spatial.distance import pdist,squareform\n",
    "from scipy.cluster.hierarchy import linkage"
   ]
  },
  {
   "cell_type": "code",
   "execution_count": 39,
   "metadata": {},
   "outputs": [],
   "source": [
    "row_dist = pd.DataFrame( squareform( pdist( X,metric='euclidean' ) ) )"
   ]
  },
  {
   "cell_type": "code",
   "execution_count": 43,
   "metadata": {},
   "outputs": [],
   "source": [
    "row_cluster = linkage(X.values,method='complete',metric='euclidean')"
   ]
  },
  {
   "cell_type": "code",
   "execution_count": 45,
   "metadata": {},
   "outputs": [
    {
     "data": {
      "text/html": [
       "<div>\n",
       "<style scoped>\n",
       "    .dataframe tbody tr th:only-of-type {\n",
       "        vertical-align: middle;\n",
       "    }\n",
       "\n",
       "    .dataframe tbody tr th {\n",
       "        vertical-align: top;\n",
       "    }\n",
       "\n",
       "    .dataframe thead th {\n",
       "        text-align: right;\n",
       "    }\n",
       "</style>\n",
       "<table border=\"1\" class=\"dataframe\">\n",
       "  <thead>\n",
       "    <tr style=\"text-align: right;\">\n",
       "      <th></th>\n",
       "      <th>row label 1</th>\n",
       "      <th>row label 2</th>\n",
       "      <th>distance</th>\n",
       "      <th>no. of items in clust</th>\n",
       "    </tr>\n",
       "  </thead>\n",
       "  <tbody>\n",
       "    <tr>\n",
       "      <th>cluster 1</th>\n",
       "      <td>101.0</td>\n",
       "      <td>142.0</td>\n",
       "      <td>0.000000</td>\n",
       "      <td>2.0</td>\n",
       "    </tr>\n",
       "    <tr>\n",
       "      <th>cluster 2</th>\n",
       "      <td>7.0</td>\n",
       "      <td>39.0</td>\n",
       "      <td>0.100000</td>\n",
       "      <td>2.0</td>\n",
       "    </tr>\n",
       "    <tr>\n",
       "      <th>cluster 3</th>\n",
       "      <td>0.0</td>\n",
       "      <td>17.0</td>\n",
       "      <td>0.100000</td>\n",
       "      <td>2.0</td>\n",
       "    </tr>\n",
       "    <tr>\n",
       "      <th>cluster 4</th>\n",
       "      <td>9.0</td>\n",
       "      <td>34.0</td>\n",
       "      <td>0.100000</td>\n",
       "      <td>2.0</td>\n",
       "    </tr>\n",
       "    <tr>\n",
       "      <th>cluster 5</th>\n",
       "      <td>128.0</td>\n",
       "      <td>132.0</td>\n",
       "      <td>0.100000</td>\n",
       "      <td>2.0</td>\n",
       "    </tr>\n",
       "    <tr>\n",
       "      <th>cluster 6</th>\n",
       "      <td>10.0</td>\n",
       "      <td>48.0</td>\n",
       "      <td>0.100000</td>\n",
       "      <td>2.0</td>\n",
       "    </tr>\n",
       "    <tr>\n",
       "      <th>cluster 7</th>\n",
       "      <td>4.0</td>\n",
       "      <td>37.0</td>\n",
       "      <td>0.141421</td>\n",
       "      <td>2.0</td>\n",
       "    </tr>\n",
       "    <tr>\n",
       "      <th>cluster 8</th>\n",
       "      <td>19.0</td>\n",
       "      <td>21.0</td>\n",
       "      <td>0.141421</td>\n",
       "      <td>2.0</td>\n",
       "    </tr>\n",
       "    <tr>\n",
       "      <th>cluster 9</th>\n",
       "      <td>29.0</td>\n",
       "      <td>30.0</td>\n",
       "      <td>0.141421</td>\n",
       "      <td>2.0</td>\n",
       "    </tr>\n",
       "    <tr>\n",
       "      <th>cluster 10</th>\n",
       "      <td>57.0</td>\n",
       "      <td>93.0</td>\n",
       "      <td>0.141421</td>\n",
       "      <td>2.0</td>\n",
       "    </tr>\n",
       "    <tr>\n",
       "      <th>cluster 11</th>\n",
       "      <td>80.0</td>\n",
       "      <td>81.0</td>\n",
       "      <td>0.141421</td>\n",
       "      <td>2.0</td>\n",
       "    </tr>\n",
       "    <tr>\n",
       "      <th>cluster 12</th>\n",
       "      <td>116.0</td>\n",
       "      <td>137.0</td>\n",
       "      <td>0.141421</td>\n",
       "      <td>2.0</td>\n",
       "    </tr>\n",
       "    <tr>\n",
       "      <th>cluster 13</th>\n",
       "      <td>8.0</td>\n",
       "      <td>38.0</td>\n",
       "      <td>0.141421</td>\n",
       "      <td>2.0</td>\n",
       "    </tr>\n",
       "    <tr>\n",
       "      <th>cluster 14</th>\n",
       "      <td>3.0</td>\n",
       "      <td>47.0</td>\n",
       "      <td>0.141421</td>\n",
       "      <td>2.0</td>\n",
       "    </tr>\n",
       "    <tr>\n",
       "      <th>cluster 15</th>\n",
       "      <td>27.0</td>\n",
       "      <td>28.0</td>\n",
       "      <td>0.141421</td>\n",
       "      <td>2.0</td>\n",
       "    </tr>\n",
       "    <tr>\n",
       "      <th>cluster 16</th>\n",
       "      <td>82.0</td>\n",
       "      <td>92.0</td>\n",
       "      <td>0.141421</td>\n",
       "      <td>2.0</td>\n",
       "    </tr>\n",
       "    <tr>\n",
       "      <th>cluster 17</th>\n",
       "      <td>95.0</td>\n",
       "      <td>96.0</td>\n",
       "      <td>0.141421</td>\n",
       "      <td>2.0</td>\n",
       "    </tr>\n",
       "    <tr>\n",
       "      <th>cluster 18</th>\n",
       "      <td>127.0</td>\n",
       "      <td>138.0</td>\n",
       "      <td>0.141421</td>\n",
       "      <td>2.0</td>\n",
       "    </tr>\n",
       "    <tr>\n",
       "      <th>cluster 19</th>\n",
       "      <td>1.0</td>\n",
       "      <td>45.0</td>\n",
       "      <td>0.141421</td>\n",
       "      <td>2.0</td>\n",
       "    </tr>\n",
       "    <tr>\n",
       "      <th>cluster 20</th>\n",
       "      <td>63.0</td>\n",
       "      <td>91.0</td>\n",
       "      <td>0.141421</td>\n",
       "      <td>2.0</td>\n",
       "    </tr>\n",
       "    <tr>\n",
       "      <th>cluster 21</th>\n",
       "      <td>65.0</td>\n",
       "      <td>75.0</td>\n",
       "      <td>0.141421</td>\n",
       "      <td>2.0</td>\n",
       "    </tr>\n",
       "    <tr>\n",
       "      <th>cluster 22</th>\n",
       "      <td>40.0</td>\n",
       "      <td>152.0</td>\n",
       "      <td>0.173205</td>\n",
       "      <td>3.0</td>\n",
       "    </tr>\n",
       "    <tr>\n",
       "      <th>cluster 23</th>\n",
       "      <td>49.0</td>\n",
       "      <td>151.0</td>\n",
       "      <td>0.173205</td>\n",
       "      <td>3.0</td>\n",
       "    </tr>\n",
       "    <tr>\n",
       "      <th>cluster 24</th>\n",
       "      <td>123.0</td>\n",
       "      <td>126.0</td>\n",
       "      <td>0.173205</td>\n",
       "      <td>2.0</td>\n",
       "    </tr>\n",
       "    <tr>\n",
       "      <th>cluster 25</th>\n",
       "      <td>112.0</td>\n",
       "      <td>139.0</td>\n",
       "      <td>0.173205</td>\n",
       "      <td>2.0</td>\n",
       "    </tr>\n",
       "    <tr>\n",
       "      <th>cluster 26</th>\n",
       "      <td>94.0</td>\n",
       "      <td>99.0</td>\n",
       "      <td>0.173205</td>\n",
       "      <td>2.0</td>\n",
       "    </tr>\n",
       "    <tr>\n",
       "      <th>cluster 27</th>\n",
       "      <td>88.0</td>\n",
       "      <td>166.0</td>\n",
       "      <td>0.173205</td>\n",
       "      <td>3.0</td>\n",
       "    </tr>\n",
       "    <tr>\n",
       "      <th>cluster 28</th>\n",
       "      <td>66.0</td>\n",
       "      <td>84.0</td>\n",
       "      <td>0.200000</td>\n",
       "      <td>2.0</td>\n",
       "    </tr>\n",
       "    <tr>\n",
       "      <th>cluster 29</th>\n",
       "      <td>23.0</td>\n",
       "      <td>26.0</td>\n",
       "      <td>0.200000</td>\n",
       "      <td>2.0</td>\n",
       "    </tr>\n",
       "    <tr>\n",
       "      <th>cluster 30</th>\n",
       "      <td>25.0</td>\n",
       "      <td>153.0</td>\n",
       "      <td>0.200000</td>\n",
       "      <td>3.0</td>\n",
       "    </tr>\n",
       "    <tr>\n",
       "      <th>...</th>\n",
       "      <td>...</td>\n",
       "      <td>...</td>\n",
       "      <td>...</td>\n",
       "      <td>...</td>\n",
       "    </tr>\n",
       "    <tr>\n",
       "      <th>cluster 120</th>\n",
       "      <td>240.0</td>\n",
       "      <td>249.0</td>\n",
       "      <td>0.754983</td>\n",
       "      <td>9.0</td>\n",
       "    </tr>\n",
       "    <tr>\n",
       "      <th>cluster 121</th>\n",
       "      <td>238.0</td>\n",
       "      <td>260.0</td>\n",
       "      <td>0.761577</td>\n",
       "      <td>8.0</td>\n",
       "    </tr>\n",
       "    <tr>\n",
       "      <th>cluster 122</th>\n",
       "      <td>223.0</td>\n",
       "      <td>245.0</td>\n",
       "      <td>0.787401</td>\n",
       "      <td>9.0</td>\n",
       "    </tr>\n",
       "    <tr>\n",
       "      <th>cluster 123</th>\n",
       "      <td>231.0</td>\n",
       "      <td>261.0</td>\n",
       "      <td>0.806226</td>\n",
       "      <td>8.0</td>\n",
       "    </tr>\n",
       "    <tr>\n",
       "      <th>cluster 124</th>\n",
       "      <td>109.0</td>\n",
       "      <td>135.0</td>\n",
       "      <td>0.806226</td>\n",
       "      <td>2.0</td>\n",
       "    </tr>\n",
       "    <tr>\n",
       "      <th>cluster 125</th>\n",
       "      <td>22.0</td>\n",
       "      <td>259.0</td>\n",
       "      <td>0.830662</td>\n",
       "      <td>9.0</td>\n",
       "    </tr>\n",
       "    <tr>\n",
       "      <th>cluster 126</th>\n",
       "      <td>246.0</td>\n",
       "      <td>256.0</td>\n",
       "      <td>0.905539</td>\n",
       "      <td>14.0</td>\n",
       "    </tr>\n",
       "    <tr>\n",
       "      <th>cluster 127</th>\n",
       "      <td>134.0</td>\n",
       "      <td>257.0</td>\n",
       "      <td>0.921954</td>\n",
       "      <td>8.0</td>\n",
       "    </tr>\n",
       "    <tr>\n",
       "      <th>cluster 128</th>\n",
       "      <td>233.0</td>\n",
       "      <td>273.0</td>\n",
       "      <td>1.004988</td>\n",
       "      <td>4.0</td>\n",
       "    </tr>\n",
       "    <tr>\n",
       "      <th>cluster 129</th>\n",
       "      <td>258.0</td>\n",
       "      <td>262.0</td>\n",
       "      <td>1.009950</td>\n",
       "      <td>16.0</td>\n",
       "    </tr>\n",
       "    <tr>\n",
       "      <th>cluster 130</th>\n",
       "      <td>62.0</td>\n",
       "      <td>270.0</td>\n",
       "      <td>1.029563</td>\n",
       "      <td>9.0</td>\n",
       "    </tr>\n",
       "    <tr>\n",
       "      <th>cluster 131</th>\n",
       "      <td>264.0</td>\n",
       "      <td>269.0</td>\n",
       "      <td>1.067708</td>\n",
       "      <td>18.0</td>\n",
       "    </tr>\n",
       "    <tr>\n",
       "      <th>cluster 132</th>\n",
       "      <td>255.0</td>\n",
       "      <td>268.0</td>\n",
       "      <td>1.067708</td>\n",
       "      <td>14.0</td>\n",
       "    </tr>\n",
       "    <tr>\n",
       "      <th>cluster 133</th>\n",
       "      <td>263.0</td>\n",
       "      <td>274.0</td>\n",
       "      <td>1.109054</td>\n",
       "      <td>28.0</td>\n",
       "    </tr>\n",
       "    <tr>\n",
       "      <th>cluster 134</th>\n",
       "      <td>271.0</td>\n",
       "      <td>276.0</td>\n",
       "      <td>1.174734</td>\n",
       "      <td>17.0</td>\n",
       "    </tr>\n",
       "    <tr>\n",
       "      <th>cluster 135</th>\n",
       "      <td>272.0</td>\n",
       "      <td>281.0</td>\n",
       "      <td>1.212436</td>\n",
       "      <td>22.0</td>\n",
       "    </tr>\n",
       "    <tr>\n",
       "      <th>cluster 136</th>\n",
       "      <td>275.0</td>\n",
       "      <td>279.0</td>\n",
       "      <td>1.224745</td>\n",
       "      <td>23.0</td>\n",
       "    </tr>\n",
       "    <tr>\n",
       "      <th>cluster 137</th>\n",
       "      <td>252.0</td>\n",
       "      <td>277.0</td>\n",
       "      <td>1.389244</td>\n",
       "      <td>7.0</td>\n",
       "    </tr>\n",
       "    <tr>\n",
       "      <th>cluster 138</th>\n",
       "      <td>41.0</td>\n",
       "      <td>282.0</td>\n",
       "      <td>1.407125</td>\n",
       "      <td>29.0</td>\n",
       "    </tr>\n",
       "    <tr>\n",
       "      <th>cluster 139</th>\n",
       "      <td>265.0</td>\n",
       "      <td>278.0</td>\n",
       "      <td>1.417745</td>\n",
       "      <td>21.0</td>\n",
       "    </tr>\n",
       "    <tr>\n",
       "      <th>cluster 140</th>\n",
       "      <td>266.0</td>\n",
       "      <td>280.0</td>\n",
       "      <td>1.449138</td>\n",
       "      <td>21.0</td>\n",
       "    </tr>\n",
       "    <tr>\n",
       "      <th>cluster 141</th>\n",
       "      <td>254.0</td>\n",
       "      <td>286.0</td>\n",
       "      <td>1.452584</td>\n",
       "      <td>12.0</td>\n",
       "    </tr>\n",
       "    <tr>\n",
       "      <th>cluster 142</th>\n",
       "      <td>106.0</td>\n",
       "      <td>285.0</td>\n",
       "      <td>1.462874</td>\n",
       "      <td>24.0</td>\n",
       "    </tr>\n",
       "    <tr>\n",
       "      <th>cluster 143</th>\n",
       "      <td>283.0</td>\n",
       "      <td>289.0</td>\n",
       "      <td>1.661325</td>\n",
       "      <td>38.0</td>\n",
       "    </tr>\n",
       "    <tr>\n",
       "      <th>cluster 144</th>\n",
       "      <td>267.0</td>\n",
       "      <td>291.0</td>\n",
       "      <td>1.705872</td>\n",
       "      <td>28.0</td>\n",
       "    </tr>\n",
       "    <tr>\n",
       "      <th>cluster 145</th>\n",
       "      <td>284.0</td>\n",
       "      <td>292.0</td>\n",
       "      <td>2.236068</td>\n",
       "      <td>60.0</td>\n",
       "    </tr>\n",
       "    <tr>\n",
       "      <th>cluster 146</th>\n",
       "      <td>287.0</td>\n",
       "      <td>288.0</td>\n",
       "      <td>2.428992</td>\n",
       "      <td>50.0</td>\n",
       "    </tr>\n",
       "    <tr>\n",
       "      <th>cluster 147</th>\n",
       "      <td>290.0</td>\n",
       "      <td>294.0</td>\n",
       "      <td>3.210919</td>\n",
       "      <td>72.0</td>\n",
       "    </tr>\n",
       "    <tr>\n",
       "      <th>cluster 148</th>\n",
       "      <td>293.0</td>\n",
       "      <td>295.0</td>\n",
       "      <td>4.024922</td>\n",
       "      <td>78.0</td>\n",
       "    </tr>\n",
       "    <tr>\n",
       "      <th>cluster 149</th>\n",
       "      <td>296.0</td>\n",
       "      <td>297.0</td>\n",
       "      <td>7.085196</td>\n",
       "      <td>150.0</td>\n",
       "    </tr>\n",
       "  </tbody>\n",
       "</table>\n",
       "<p>149 rows × 4 columns</p>\n",
       "</div>"
      ],
      "text/plain": [
       "             row label 1  row label 2  distance  no. of items in clust\n",
       "cluster 1          101.0        142.0  0.000000                    2.0\n",
       "cluster 2            7.0         39.0  0.100000                    2.0\n",
       "cluster 3            0.0         17.0  0.100000                    2.0\n",
       "cluster 4            9.0         34.0  0.100000                    2.0\n",
       "cluster 5          128.0        132.0  0.100000                    2.0\n",
       "cluster 6           10.0         48.0  0.100000                    2.0\n",
       "cluster 7            4.0         37.0  0.141421                    2.0\n",
       "cluster 8           19.0         21.0  0.141421                    2.0\n",
       "cluster 9           29.0         30.0  0.141421                    2.0\n",
       "cluster 10          57.0         93.0  0.141421                    2.0\n",
       "cluster 11          80.0         81.0  0.141421                    2.0\n",
       "cluster 12         116.0        137.0  0.141421                    2.0\n",
       "cluster 13           8.0         38.0  0.141421                    2.0\n",
       "cluster 14           3.0         47.0  0.141421                    2.0\n",
       "cluster 15          27.0         28.0  0.141421                    2.0\n",
       "cluster 16          82.0         92.0  0.141421                    2.0\n",
       "cluster 17          95.0         96.0  0.141421                    2.0\n",
       "cluster 18         127.0        138.0  0.141421                    2.0\n",
       "cluster 19           1.0         45.0  0.141421                    2.0\n",
       "cluster 20          63.0         91.0  0.141421                    2.0\n",
       "cluster 21          65.0         75.0  0.141421                    2.0\n",
       "cluster 22          40.0        152.0  0.173205                    3.0\n",
       "cluster 23          49.0        151.0  0.173205                    3.0\n",
       "cluster 24         123.0        126.0  0.173205                    2.0\n",
       "cluster 25         112.0        139.0  0.173205                    2.0\n",
       "cluster 26          94.0         99.0  0.173205                    2.0\n",
       "cluster 27          88.0        166.0  0.173205                    3.0\n",
       "cluster 28          66.0         84.0  0.200000                    2.0\n",
       "cluster 29          23.0         26.0  0.200000                    2.0\n",
       "cluster 30          25.0        153.0  0.200000                    3.0\n",
       "...                  ...          ...       ...                    ...\n",
       "cluster 120        240.0        249.0  0.754983                    9.0\n",
       "cluster 121        238.0        260.0  0.761577                    8.0\n",
       "cluster 122        223.0        245.0  0.787401                    9.0\n",
       "cluster 123        231.0        261.0  0.806226                    8.0\n",
       "cluster 124        109.0        135.0  0.806226                    2.0\n",
       "cluster 125         22.0        259.0  0.830662                    9.0\n",
       "cluster 126        246.0        256.0  0.905539                   14.0\n",
       "cluster 127        134.0        257.0  0.921954                    8.0\n",
       "cluster 128        233.0        273.0  1.004988                    4.0\n",
       "cluster 129        258.0        262.0  1.009950                   16.0\n",
       "cluster 130         62.0        270.0  1.029563                    9.0\n",
       "cluster 131        264.0        269.0  1.067708                   18.0\n",
       "cluster 132        255.0        268.0  1.067708                   14.0\n",
       "cluster 133        263.0        274.0  1.109054                   28.0\n",
       "cluster 134        271.0        276.0  1.174734                   17.0\n",
       "cluster 135        272.0        281.0  1.212436                   22.0\n",
       "cluster 136        275.0        279.0  1.224745                   23.0\n",
       "cluster 137        252.0        277.0  1.389244                    7.0\n",
       "cluster 138         41.0        282.0  1.407125                   29.0\n",
       "cluster 139        265.0        278.0  1.417745                   21.0\n",
       "cluster 140        266.0        280.0  1.449138                   21.0\n",
       "cluster 141        254.0        286.0  1.452584                   12.0\n",
       "cluster 142        106.0        285.0  1.462874                   24.0\n",
       "cluster 143        283.0        289.0  1.661325                   38.0\n",
       "cluster 144        267.0        291.0  1.705872                   28.0\n",
       "cluster 145        284.0        292.0  2.236068                   60.0\n",
       "cluster 146        287.0        288.0  2.428992                   50.0\n",
       "cluster 147        290.0        294.0  3.210919                   72.0\n",
       "cluster 148        293.0        295.0  4.024922                   78.0\n",
       "cluster 149        296.0        297.0  7.085196                  150.0\n",
       "\n",
       "[149 rows x 4 columns]"
      ]
     },
     "execution_count": 45,
     "metadata": {},
     "output_type": "execute_result"
    }
   ],
   "source": [
    "pd.DataFrame( row_cluster,columns=['row label 1','row label 2','distance','no. of items in clust'],\n",
    "             index=['cluster %d' %(i+1) for i in range( row_cluster.shape[0] )] )"
   ]
  },
  {
   "cell_type": "markdown",
   "metadata": {},
   "source": [
    "# visualizando dendograma"
   ]
  },
  {
   "cell_type": "code",
   "execution_count": 46,
   "metadata": {},
   "outputs": [],
   "source": [
    "from scipy.cluster.hierarchy import dendrogram"
   ]
  },
  {
   "cell_type": "code",
   "execution_count": 51,
   "metadata": {},
   "outputs": [
    {
     "data": {
      "image/png": "[encoded data removed]",
      "text/plain": [
       "<Figure size 1008x576 with 1 Axes>"
      ]
     },
     "metadata": {},
     "output_type": "display_data"
    }
   ],
   "source": [
    "fig_2 = plt.gcf()\n",
    "fig_2.set_size_inches(14,8)\n",
    "row_dendr = dendrogram( row_cluster )\n",
    "plt.tight_layout()\n",
    "plt.ylabel('euclidean distance')\n",
    "plt.show()"
   ]
  },
  {
   "cell_type": "code",
   "execution_count": null,
   "metadata": {},
   "outputs": [],
   "source": []
  }
 ],
 "metadata": {
  "kernelspec": {
   "display_name": "Python 3",
   "language": "python",
   "name": "python3"
  },
  "language_info": {
   "codemirror_mode": {
    "name": "ipython",
    "version": 3
   },
   "file_extension": ".py",
   "mimetype": "text/x-python",
   "name": "python",
   "nbconvert_exporter": "python",
   "pygments_lexer": "ipython3",
   "version": "3.6.5"
  }
 },
 "nbformat": 4,
 "nbformat_minor": 2
}
