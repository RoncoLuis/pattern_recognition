{
 "cells": [
  {
   "cell_type": "code",
   "execution_count": 15,
   "metadata": {},
   "outputs": [],
   "source": [
    "import pandas as pd\n",
    "import numpy as np\n",
    "from sklearn.preprocessing import StandardScaler\n",
    "import matplotlib.pyplot as plt"
   ]
  },
  {
   "cell_type": "code",
   "execution_count": 5,
   "metadata": {},
   "outputs": [],
   "source": [
    "ds = pd.read_excel(\"../datasets/datos.gob.mx/P128_ARRIBA.xlsx\",sheet_name='pruebas')"
   ]
  },
  {
   "cell_type": "code",
   "execution_count": 7,
   "metadata": {},
   "outputs": [],
   "source": [
    "x_std = StandardScaler().fit_transform(ds)"
   ]
  },
  {
   "cell_type": "code",
   "execution_count": 13,
   "metadata": {},
   "outputs": [
    {
     "name": "stdout",
     "output_type": "stream",
     "text": [
      "[[ 1.07142857  0.9761988  -0.19796397  1.03354823  0.8577662   0.21809679]\n",
      " [ 0.9761988   1.07142857 -0.54661228  0.87708459  0.97336973  0.55317033]\n",
      " [-0.19796397 -0.54661228  1.07142857  0.0283559  -0.61473731 -1.01301349]\n",
      " [ 1.03354823  0.87708459  0.0283559   1.07142857  0.74489399  0.00513831]\n",
      " [ 0.8577662   0.97336973 -0.61473731  0.74489399  1.07142857  0.69354717]\n",
      " [ 0.21809679  0.55317033 -1.01301349  0.00513831  0.69354717  1.07142857]]\n"
     ]
    }
   ],
   "source": [
    "feature = x_std.T\n",
    "cov_matrix = np.cov(feature)\n",
    "corr_matrix = ds.corr()\n",
    "print(cov_matrix)"
   ]
  },
  {
   "cell_type": "code",
   "execution_count": 21,
   "metadata": {},
   "outputs": [
    {
     "data": {
      "text/plain": [
       "([<matplotlib.axis.YTick at 0x15395fc6588>,\n",
       "  <matplotlib.axis.YTick at 0x15395fc1e80>,\n",
       "  <matplotlib.axis.YTick at 0x15395fbf1d0>,\n",
       "  <matplotlib.axis.YTick at 0x15395fe6c18>,\n",
       "  <matplotlib.axis.YTick at 0x15395ff0160>,\n",
       "  <matplotlib.axis.YTick at 0x15395ff05f8>],\n",
       " <a list of 6 Text yticklabel objects>)"
      ]
     },
     "execution_count": 21,
     "metadata": {},
     "output_type": "execute_result"
    },
    {
     "data": {
      "image/png": "[encoded data removed]",
      "text/plain": [
       "<Figure size 288x288 with 1 Axes>"
      ]
     },
     "metadata": {},
     "output_type": "display_data"
    }
   ],
   "source": [
    "plt.matshow(cov_matrix)\n",
    "etiquetas = ['x1','x2','x3','x4','x5','x6']\n",
    "x_pos = np.arange(len(etiquetas))\n",
    "plt.xticks(x_pos,etiquetas)\n",
    "y_pos = np.arange(len(etiquetas))\n",
    "plt.yticks(x_pos,etiquetas)"
   ]
  },
  {
   "cell_type": "code",
   "execution_count": 27,
   "metadata": {},
   "outputs": [
    {
     "name": "stdout",
     "output_type": "stream",
     "text": [
      "\n",
      "Eigen valores \n",
      "[4.28112853 1.93711953 0.12947524 0.01334783 0.03986684 0.02763346]\n",
      "\n",
      "Eigen vectores \n",
      "[[ 0.44097488  0.33712688  0.22322618 -0.6706412   0.28504176 -0.33323906]\n",
      " [ 0.48969879  0.0818235   0.30168457 -0.05474595 -0.38099658  0.71716868]\n",
      " [-0.29792259  0.5793954  -0.49443894 -0.19055424  0.26710699  0.47266921]\n",
      " [ 0.3851687   0.46795637  0.08425217  0.71460166  0.31254221 -0.13124526]\n",
      " [ 0.4803911  -0.03840038 -0.75123558 -0.01274153 -0.39450126 -0.21817724]\n",
      " [ 0.31280639 -0.56876498 -0.2079262  -0.01069906  0.67002446  0.29390136]]\n"
     ]
    }
   ],
   "source": [
    "e_values,e_vectors = np.linalg.eig(cov_matrix)\n",
    "print(\"\\nEigen valores \\n%s\" %e_values)\n",
    "print(\"\\nEigen vectores \\n%s\" %e_vectors)"
   ]
  },
  {
   "cell_type": "code",
   "execution_count": 58,
   "metadata": {},
   "outputs": [],
   "source": [
    "#¿cuanta información se le puede atribuir a cada una de las características?\n",
    "total_sum = sum(e_values)\n",
    "var_exp = [(i/total_sum)*100 for i in sorted(e_values,reverse=True)]\n",
    "var_exp = {'x1':[var_exp[0]],'x2':[var_exp[1]],'x3':[var_exp[2]],'x4':[var_exp[3]],'x5':[var_exp[4]],'x6':[var_exp[5]]}\n",
    "#var_exp = {var_exp[0],var_exp[1],var_exp[2],var_exp[3],var_exp[4],var_exp[5]}"
   ]
  },
  {
   "cell_type": "code",
   "execution_count": 62,
   "metadata": {},
   "outputs": [
    {
     "data": {
      "text/html": [
       "<div>\n",
       "<style scoped>\n",
       "    .dataframe tbody tr th:only-of-type {\n",
       "        vertical-align: middle;\n",
       "    }\n",
       "\n",
       "    .dataframe tbody tr th {\n",
       "        vertical-align: top;\n",
       "    }\n",
       "\n",
       "    .dataframe thead th {\n",
       "        text-align: right;\n",
       "    }\n",
       "</style>\n",
       "<table border=\"1\" class=\"dataframe\">\n",
       "  <thead>\n",
       "    <tr style=\"text-align: right;\">\n",
       "      <th></th>\n",
       "      <th>x1</th>\n",
       "      <th>x2</th>\n",
       "      <th>x3</th>\n",
       "      <th>x4</th>\n",
       "      <th>x5</th>\n",
       "      <th>x6</th>\n",
       "    </tr>\n",
       "  </thead>\n",
       "  <tbody>\n",
       "    <tr>\n",
       "      <th>0</th>\n",
       "      <td>66.595333</td>\n",
       "      <td>30.132971</td>\n",
       "      <td>2.014059</td>\n",
       "      <td>0.620151</td>\n",
       "      <td>0.429854</td>\n",
       "      <td>0.207633</td>\n",
       "    </tr>\n",
       "  </tbody>\n",
       "</table>\n",
       "</div>"
      ],
      "text/plain": [
       "          x1         x2        x3        x4        x5        x6\n",
       "0  66.595333  30.132971  2.014059  0.620151  0.429854  0.207633"
      ]
     },
     "execution_count": 62,
     "metadata": {},
     "output_type": "execute_result"
    }
   ],
   "source": [
    "df = pd.DataFrame(data=var_exp)\n",
    "df"
   ]
  },
  {
   "cell_type": "code",
   "execution_count": 61,
   "metadata": {},
   "outputs": [
    {
     "data": {
      "text/html": [
       "<div>\n",
       "<style scoped>\n",
       "    .dataframe tbody tr th:only-of-type {\n",
       "        vertical-align: middle;\n",
       "    }\n",
       "\n",
       "    .dataframe tbody tr th {\n",
       "        vertical-align: top;\n",
       "    }\n",
       "\n",
       "    .dataframe thead th {\n",
       "        text-align: right;\n",
       "    }\n",
       "</style>\n",
       "<table border=\"1\" class=\"dataframe\">\n",
       "  <thead>\n",
       "    <tr style=\"text-align: right;\">\n",
       "      <th></th>\n",
       "      <th>Deficiencia mental</th>\n",
       "      <th>Trastornos visuales</th>\n",
       "      <th>Trastornos de audición</th>\n",
       "      <th>Impedimentos motores</th>\n",
       "      <th>Aptitudes sobresalientes</th>\n",
       "      <th>Otros</th>\n",
       "    </tr>\n",
       "  </thead>\n",
       "  <tbody>\n",
       "    <tr>\n",
       "      <th>0</th>\n",
       "      <td>66465</td>\n",
       "      <td>5003</td>\n",
       "      <td>12993</td>\n",
       "      <td>11241</td>\n",
       "      <td>6327</td>\n",
       "      <td>329448</td>\n",
       "    </tr>\n",
       "    <tr>\n",
       "      <th>1</th>\n",
       "      <td>69489</td>\n",
       "      <td>4521</td>\n",
       "      <td>13486</td>\n",
       "      <td>12456</td>\n",
       "      <td>5953</td>\n",
       "      <td>330302</td>\n",
       "    </tr>\n",
       "    <tr>\n",
       "      <th>2</th>\n",
       "      <td>74725</td>\n",
       "      <td>4822</td>\n",
       "      <td>14023</td>\n",
       "      <td>13163</td>\n",
       "      <td>4601</td>\n",
       "      <td>309375</td>\n",
       "    </tr>\n",
       "    <tr>\n",
       "      <th>3</th>\n",
       "      <td>79740</td>\n",
       "      <td>4651</td>\n",
       "      <td>14436</td>\n",
       "      <td>13607</td>\n",
       "      <td>4893</td>\n",
       "      <td>283015</td>\n",
       "    </tr>\n",
       "    <tr>\n",
       "      <th>4</th>\n",
       "      <td>81982</td>\n",
       "      <td>4672</td>\n",
       "      <td>14562</td>\n",
       "      <td>14280</td>\n",
       "      <td>4452</td>\n",
       "      <td>259325</td>\n",
       "    </tr>\n",
       "  </tbody>\n",
       "</table>\n",
       "</div>"
      ],
      "text/plain": [
       "   Deficiencia mental  Trastornos visuales  Trastornos de audición  \\\n",
       "0               66465                 5003                   12993   \n",
       "1               69489                 4521                   13486   \n",
       "2               74725                 4822                   14023   \n",
       "3               79740                 4651                   14436   \n",
       "4               81982                 4672                   14562   \n",
       "\n",
       "   Impedimentos motores  Aptitudes sobresalientes   Otros  \n",
       "0                 11241                      6327  329448  \n",
       "1                 12456                      5953  330302  \n",
       "2                 13163                      4601  309375  \n",
       "3                 13607                      4893  283015  \n",
       "4                 14280                      4452  259325  "
      ]
     },
     "execution_count": 61,
     "metadata": {},
     "output_type": "execute_result"
    }
   ],
   "source": [
    "ds.head()"
   ]
  },
  {
   "cell_type": "code",
   "execution_count": 66,
   "metadata": {},
   "outputs": [
    {
     "name": "stdout",
     "output_type": "stream",
     "text": [
      "0    96.728303\n",
      "dtype: float64\n"
     ]
    }
   ],
   "source": [
    "total = df.x1+df.x2\n",
    "print(total)"
   ]
  },
  {
   "cell_type": "code",
   "execution_count": 83,
   "metadata": {},
   "outputs": [
    {
     "data": {
      "text/plain": [
       "Text(0,0.5,'Aptitudes sobresalientes')"
      ]
     },
     "execution_count": 83,
     "metadata": {},
     "output_type": "execute_result"
    },
    {
     "data": {
      "image/png": "[encoded data removed]",
      "text/plain": [
       "<Figure size 432x288 with 1 Axes>"
      ]
     },
     "metadata": {},
     "output_type": "display_data"
    }
   ],
   "source": [
    "plt.scatter(ds['Trastornos visuales'],ds[\"Aptitudes sobresalientes\"])\n",
    "plt.title(\"Trastornos visuales vs Aptitudes sobresalientes\")\n",
    "plt.xlabel(\"Trastornos visuales\")\n",
    "plt.ylabel(\"Aptitudes sobresalientes\")"
   ]
  },
  {
   "cell_type": "code",
   "execution_count": 81,
   "metadata": {},
   "outputs": [],
   "source": [
    "import seaborn as sns\n",
    "sns.set()\n",
    "from sklearn.cluster import KMeans\n",
    "from sklearn import preprocessing"
   ]
  },
  {
   "cell_type": "code",
   "execution_count": 90,
   "metadata": {},
   "outputs": [
    {
     "data": {
      "text/plain": [
       "KMeans(algorithm='auto', copy_x=True, init='k-means++', max_iter=300,\n",
       "    n_clusters=2, n_init=10, n_jobs=1, precompute_distances='auto',\n",
       "    random_state=None, tol=0.0001, verbose=0)"
      ]
     },
     "execution_count": 90,
     "metadata": {},
     "output_type": "execute_result"
    }
   ],
   "source": [
    "x = preprocessing.scale(ds)\n",
    "kmeans = KMeans(2)\n",
    "kmeans.fit(x)"
   ]
  },
  {
   "cell_type": "code",
   "execution_count": 91,
   "metadata": {},
   "outputs": [
    {
     "data": {
      "text/plain": [
       "Text(0,0.5,'Aptitudes sobresalientes')"
      ]
     },
     "execution_count": 91,
     "metadata": {},
     "output_type": "execute_result"
    },
    {
     "data": {
      "image/png": "[encoded data removed]",
      "text/plain": [
       "<Figure size 432x288 with 1 Axes>"
      ]
     },
     "metadata": {},
     "output_type": "display_data"
    }
   ],
   "source": [
    "plt.scatter(ds['Trastornos visuales'],ds[\"Aptitudes sobresalientes\"],c=kmeans.fit_predict(x),cmap='rainbow')\n",
    "plt.title(\"Trastornos visuales vs Aptitudes sobresalientes\")\n",
    "plt.xlabel(\"Trastornos visuales\")\n",
    "plt.ylabel(\"Aptitudes sobresalientes\")"
   ]
  },
  {
   "cell_type": "code",
   "execution_count": 92,
   "metadata": {},
   "outputs": [],
   "source": []
  },
  {
   "cell_type": "code",
   "execution_count": 93,
   "metadata": {},
   "outputs": [
    {
     "data": {
      "text/plain": [
       "array([0, 0, 0, 0, 0, 0, 0, 0, 0, 0, 1, 1, 1, 1, 1])"
      ]
     },
     "execution_count": 93,
     "metadata": {},
     "output_type": "execute_result"
    }
   ],
   "source": [
    "kmeans.fit_predict(x)"
   ]
  },
  {
   "cell_type": "code",
   "execution_count": null,
   "metadata": {},
   "outputs": [],
   "source": []
  }
 ],
 "metadata": {
  "kernelspec": {
   "display_name": "Python 3",
   "language": "python",
   "name": "python3"
  },
  "language_info": {
   "codemirror_mode": {
    "name": "ipython",
    "version": 3
   },
   "file_extension": ".py",
   "mimetype": "text/x-python",
   "name": "python",
   "nbconvert_exporter": "python",
   "pygments_lexer": "ipython3",
   "version": "3.6.5"
  }
 },
 "nbformat": 4,
 "nbformat_minor": 2
}
