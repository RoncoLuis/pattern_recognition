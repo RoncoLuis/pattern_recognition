{
 "cells": [
  {
   "cell_type": "markdown",
   "metadata": {},
   "source": [
    "# Clasificador Naive Bayes con iris plant"
   ]
  },
  {
   "cell_type": "markdown",
   "metadata": {},
   "source": [
    "### 1. Cargar base de datos iris plant"
   ]
  },
  {
   "cell_type": "code",
   "execution_count": 1,
   "metadata": {},
   "outputs": [],
   "source": [
    "import pandas as pd"
   ]
  },
  {
   "cell_type": "code",
   "execution_count": 26,
   "metadata": {},
   "outputs": [],
   "source": [
    "ds = pd.read_csv(\"../datasets/breast-cancer-wisconsin/PCA_breast-cancer-wisconsin.csv\")"
   ]
  },
  {
   "cell_type": "markdown",
   "metadata": {},
   "source": [
    "### separar la base de datos en caracteristicas y clases"
   ]
  },
  {
   "cell_type": "code",
   "execution_count": 27,
   "metadata": {},
   "outputs": [],
   "source": [
    "x = ds[[\"x1\",\"x2\"]]\n",
    "ds[[\"diagnosis\"]] = ds[[\"diagnosis\"]].replace(['B'],0)\n",
    "ds[[\"diagnosis\"]] = ds[[\"diagnosis\"]].replace(['M'],1)\n",
    "y = ds[[\"diagnosis\"]]"
   ]
  },
  {
   "cell_type": "code",
   "execution_count": 47,
   "metadata": {},
   "outputs": [
    {
     "name": "stdout",
     "output_type": "stream",
     "text": [
      "probabilidad benigno 0.6274165202108963\n",
      "probabilidad maligno 0.37258347978910367\n",
      "probabilidad total 1.0\n"
     ]
    }
   ],
   "source": [
    "#calculando probabilidad de que sea benigno\n",
    "PBenigno = len(y[y[\"diagnosis\"]==0])/len(y)\n",
    "PMaligno = len(y[y[\"diagnosis\"]==1])/len(y)\n",
    "PTotal = PBenigno+PMaligno\n",
    "print('probabilidad benigno',PBenigno)\n",
    "print('probabilidad maligno',PMaligno)\n",
    "print('probabilidad total',PTotal)"
   ]
  },
  {
   "cell_type": "markdown",
   "metadata": {},
   "source": [
    "### validación cruzada"
   ]
  },
  {
   "cell_type": "code",
   "execution_count": 37,
   "metadata": {},
   "outputs": [],
   "source": [
    "from sklearn.model_selection import train_test_split\n",
    "from sklearn.naive_bayes import GaussianNB\n",
    "from sklearn.metrics import confusion_matrix,roc_curve,auc\n",
    "import seaborn as sbs\n",
    "import matplotlib.pyplot as plt"
   ]
  },
  {
   "cell_type": "markdown",
   "metadata": {},
   "source": [
    "#### Función para entrenar el modelo y mostrar matriz de confusión"
   ]
  },
  {
   "cell_type": "code",
   "execution_count": 38,
   "metadata": {},
   "outputs": [],
   "source": [
    "def train_clf(model,X_train,X_test,y_train,y_test,labels):\n",
    "    model.fit(X_train,y_train.values.ravel())\n",
    "    model_predicted = model.predict(X_test)\n",
    "    confusion_ma = confusion_matrix(y_test,model_predicted)\n",
    "    accuracy = model.score(X_test,y_test.values.ravel())\n",
    "    print(\"Predicción del modelo:\")\n",
    "    print(model_predicted)\n",
    "    print(\"Valores reales:\")\n",
    "    print(y_test.values.ravel())    \n",
    "    print('Precisión del modelo:',accuracy*100,'%')\n",
    "    print('-----------\\n')\n",
    "    print(\"Matriz de confusión\")\n",
    "    sbs.heatmap(data=confusion_ma,cmap=\"Pastel1\",annot=True,xticklabels=labels,yticklabels=labels)\n",
    "    plt.xlabel(\"Actual\")\n",
    "    plt.ylabel(\"predicción\")\n",
    "    return confusion_ma    "
   ]
  },
  {
   "cell_type": "markdown",
   "metadata": {},
   "source": [
    "#### función para mostrar la curva ROC del modelo"
   ]
  },
  {
   "cell_type": "code",
   "execution_count": 39,
   "metadata": {},
   "outputs": [],
   "source": [
    "def plot_roc_curve(model,X_test,y_test):\n",
    "    #El modelo debe estar ajustado previamente\n",
    "    #model.fit(X_test,y_test.values.ravel())\n",
    "    y_scores = model.predict_proba(X_test)\n",
    "    fpr, tpr, threshold = roc_curve(y_test, y_scores[:, 1])\n",
    "    roc_auc = auc(fpr,tpr)\n",
    "    plt.title('Curva ROC')\n",
    "    plt.plot(fpr, tpr, 'b', label = 'AUC = %0.2f' % roc_auc)\n",
    "    plt.legend(loc = 'lower right')\n",
    "    plt.plot([0, 1], [0, 1],'r--')\n",
    "    plt.xlim([0, 1])\n",
    "    plt.ylim([0, 1])\n",
    "    plt.ylabel('Verdadero Positivo')\n",
    "    plt.xlabel('Falso Positivo')\n",
    "    plt.show()"
   ]
  },
  {
   "cell_type": "code",
   "execution_count": 87,
   "metadata": {},
   "outputs": [],
   "source": [
    "x_train,x_test,y_train,y_test = train_test_split(x,y,test_size=0.20)\n",
    "probs = [PBenigno,PMaligno]"
   ]
  },
  {
   "cell_type": "code",
   "execution_count": 88,
   "metadata": {},
   "outputs": [
    {
     "name": "stdout",
     "output_type": "stream",
     "text": [
      "Predicción del modelo:\n",
      "[0 0 1 0 0 0 0 0 0 0 1 0 0 1 0 0 1 0 0 0 0 1 0 0 0 0 0 1 0 0 0 1 1 0 0 0 1\n",
      " 0 0 0 0 0 0 1 0 0 0 1 1 0 0 0 0 0 0 0 1 0 0 0 0 0 0 0 1 1 0 0 0 0 0 0 0 0\n",
      " 1 0 0 1 0 0 0 0 1 0 1 0 0 0 1 1 1 0 0 1 0 1 0 1 0 0 0 0 0 0 0 0 0 0 0 0 1\n",
      " 1 1 0]\n",
      "Valores reales:\n",
      "[0 0 1 0 0 1 0 0 1 0 1 0 0 1 0 0 1 0 0 0 0 1 0 0 0 0 0 1 0 0 0 1 1 0 0 0 0\n",
      " 0 0 0 0 1 0 1 0 1 1 1 1 0 1 0 0 0 0 1 1 0 0 0 0 0 0 1 1 1 0 0 0 0 0 0 1 0\n",
      " 1 0 1 1 0 0 1 0 1 1 1 0 0 0 1 1 1 1 0 0 0 1 0 1 0 0 0 0 0 0 0 0 0 0 0 0 1\n",
      " 1 1 0]\n",
      "Precisión del modelo: 86.8421052631579 %\n",
      "-----------\n",
      "\n",
      "Matriz de confusión\n"
     ]
    },
    {
     "data": {
      "image/png": "[encoded data removed]",
      "text/plain": [
       "<Figure size 432x288 with 2 Axes>"
      ]
     },
     "metadata": {},
     "output_type": "display_data"
    }
   ],
   "source": [
    "NBayes =GaussianNB(priors=probs)\n",
    "labels = [\"Benigno\",\"Maligno\"]\n",
    "conf_ma = train_clf(model=NBayes,X_train=x_train,X_test=x_test,y_train=y_train,y_test=y_test,labels=labels)"
   ]
  },
  {
   "cell_type": "code",
   "execution_count": 54,
   "metadata": {},
   "outputs": [
    {
     "data": {
      "image/png": "[encoded data removed]",
      "text/plain": [
       "<Figure size 432x288 with 1 Axes>"
      ]
     },
     "metadata": {},
     "output_type": "display_data"
    }
   ],
   "source": [
    "plot_roc_curve(model=NBayes,X_test=x_test,y_test=y_test)"
   ]
  },
  {
   "cell_type": "code",
   "execution_count": 57,
   "metadata": {},
   "outputs": [],
   "source": [
    "import numpy as np"
   ]
  },
  {
   "cell_type": "code",
   "execution_count": 89,
   "metadata": {},
   "outputs": [
    {
     "name": "stdout",
     "output_type": "stream",
     "text": [
      "test_size 0.25\n",
      "test_size 0.3\n",
      "test_size 0.35\n",
      "test_size 0.4\n",
      "test_size 0.45\n",
      "test_size 0.5\n",
      "test_size 0.55\n",
      "test_size 0.6\n",
      "test_size 0.65\n",
      "test_size 0.7\n"
     ]
    }
   ],
   "source": [
    "train_prec = []\n",
    "test_prec  = []\n",
    "size_list = list(np.arange(0.25,0.75,0.05))\n",
    "for i in size_list:\n",
    "    t_size=round(i,2)\n",
    "    print('test_size',t_size)\n",
    "    x_train,x_test,y_train,y_test = train_test_split(x,y,test_size=t_size)\n",
    "    NBayes.fit(x_train,y_train.values.ravel())\n",
    "    train_prec.append(NBayes.score(x_train,y_train.values.ravel()))\n",
    "    test_prec.append(NBayes.score(x_test,y_test.values.ravel()))"
   ]
  },
  {
   "cell_type": "code",
   "execution_count": 90,
   "metadata": {},
   "outputs": [
    {
     "data": {
      "image/png": "[encoded data removed]",
      "text/plain": [
       "<Figure size 432x288 with 1 Axes>"
      ]
     },
     "metadata": {},
     "output_type": "display_data"
    }
   ],
   "source": [
    "# graficar los resultados.\n",
    "plt.plot(size_list, train_prec, 'r--', label='entrenamiento')\n",
    "plt.plot(size_list, test_prec, 'b--', label='evaluacion')\n",
    "plt.title('Grafico de ajuste Naive Bayes')\n",
    "plt.legend()\n",
    "plt.xlabel('test_size')\n",
    "plt.ylabel('precision')\n",
    "plt.show()"
   ]
  },
  {
   "cell_type": "code",
   "execution_count": 77,
   "metadata": {},
   "outputs": [
    {
     "data": {
      "text/plain": [
       "[0.25,\n",
       " 0.3,\n",
       " 0.35,\n",
       " 0.39999999999999997,\n",
       " 0.44999999999999996,\n",
       " 0.49999999999999994,\n",
       " 0.5499999999999999,\n",
       " 0.5999999999999999,\n",
       " 0.6499999999999999,\n",
       " 0.7]"
      ]
     },
     "execution_count": 77,
     "metadata": {},
     "output_type": "execute_result"
    }
   ],
   "source": [
    "plt.(size_list, train_prec, color='r', label='entrenamiento')\n",
    "plt.plot(size_list, test_prec, color='b', label='evaluacion')\n",
    "plt.title('Grafico de ajuste arbol de decision')\n",
    "plt.legend()\n",
    "plt.ylabel('precision')\n",
    "plt.xlabel('cant de nodos')\n",
    "plt.show()"
   ]
  },
  {
   "cell_type": "code",
   "execution_count": null,
   "metadata": {},
   "outputs": [],
   "source": []
  }
 ],
 "metadata": {
  "kernelspec": {
   "display_name": "Python 3",
   "language": "python",
   "name": "python3"
  },
  "language_info": {
   "codemirror_mode": {
    "name": "ipython",
    "version": 3
   },
   "file_extension": ".py",
   "mimetype": "text/x-python",
   "name": "python",
   "nbconvert_exporter": "python",
   "pygments_lexer": "ipython3",
   "version": "3.6.5"
  }
 },
 "nbformat": 4,
 "nbformat_minor": 2
}
