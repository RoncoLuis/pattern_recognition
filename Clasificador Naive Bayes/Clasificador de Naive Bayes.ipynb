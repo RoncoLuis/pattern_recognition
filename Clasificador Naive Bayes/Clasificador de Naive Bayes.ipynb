{
 "cells": [
  {
   "cell_type": "markdown",
   "metadata": {},
   "source": [
    "# Clasificador de Naive Bayes\n",
    "## Base de datos iris plant"
   ]
  },
  {
   "cell_type": "code",
   "execution_count": 379,
   "metadata": {},
   "outputs": [],
   "source": [
    "import pandas as pd\n",
    "import numpy as np\n",
    "from sklearn import preprocessing,cross_validation\n",
    "from sklearn.decomposition import PCA\n",
    "from sklearn.metrics import accuracy_score,confusion_matrix,recall_score,roc_curve,auc,precision_score\n",
    "from sklearn.model_selection import train_test_split\n",
    "from sklearn.naive_bayes import GaussianNB\n",
    "from sklearn.neighbors import KNeighborsClassifier\n",
    "from sklearn.model_selection import KFold\n",
    "from sklearn.model_selection import cross_val_score\n",
    "import matplotlib.pyplot as plt\n",
    "import math as math\n",
    "import scipy.stats as stats\n",
    "import seaborn as sbs"
   ]
  },
  {
   "cell_type": "code",
   "execution_count": 310,
   "metadata": {},
   "outputs": [],
   "source": [
    "#recuperando base de datos\n",
    "ds_original = pd.read_csv(\"../datasets/iris_plant/iris_plant.csv\")\n",
    "#base de datos con la que vamos a trabajar\n",
    "ds = ds_original"
   ]
  },
  {
   "cell_type": "code",
   "execution_count": 311,
   "metadata": {},
   "outputs": [],
   "source": [
    "#separando patrones y targets\n",
    "X = ds[[\"sepal.length\",\"sepal.width\",\"petal.length\",\"petal.width\"]]\n",
    "y = ds[[\"variety\"]]"
   ]
  },
  {
   "cell_type": "code",
   "execution_count": 312,
   "metadata": {},
   "outputs": [],
   "source": [
    "#renombrando las columnas de los patrones\n",
    "#v1=sepal.length,v2=sepal.width,v3=petal.length,v4=petal.width\n",
    "X.columns = [[\"v1\",\"v2\",\"v3\",\"v4\"]]"
   ]
  },
  {
   "cell_type": "code",
   "execution_count": 313,
   "metadata": {},
   "outputs": [
    {
     "name": "stderr",
     "output_type": "stream",
     "text": [
      "C:\\Anaconda3\\lib\\site-packages\\pandas\\core\\generic.py:4401: SettingWithCopyWarning: \n",
      "A value is trying to be set on a copy of a slice from a DataFrame.\n",
      "Try using .loc[row_indexer,col_indexer] = value instead\n",
      "\n",
      "See the caveats in the documentation: http://pandas.pydata.org/pandas-docs/stable/indexing.html#indexing-view-versus-copy\n",
      "  self[name] = value\n"
     ]
    }
   ],
   "source": [
    "#cambiando valores string de la columna variety\n",
    "#usando método en cascada 1 para Setosa, 2 para Versicolor y Virginica\n",
    "mapping = {'Setosa':1,'Versicolor':0,'Virginica':0}\n",
    "y.variety = [mapping[item] for item in y.variety]"
   ]
  },
  {
   "cell_type": "code",
   "execution_count": 314,
   "metadata": {},
   "outputs": [
    {
     "data": {
      "text/plain": [
       "PCA(copy=True, iterated_power='auto', n_components=0.95, random_state=None,\n",
       "  svd_solver='auto', tol=0.0, whiten=False)"
      ]
     },
     "execution_count": 314,
     "metadata": {},
     "output_type": "execute_result"
    }
   ],
   "source": [
    "#PCA usando sklearn\n",
    "#porcentaje de información que se desea mantener de los datos\n",
    "informacion = 0.95\n",
    "pca = PCA(n_components=informacion) \n",
    "pca.fit(X)"
   ]
  },
  {
   "cell_type": "code",
   "execution_count": 315,
   "metadata": {},
   "outputs": [],
   "source": [
    "#proyectando el nuevo espacio de características obtenidas con PCA\n",
    "X_reduced = pca.fit_transform(X)\n",
    "#convirtiendo a dataframe para un mejor manejo\n",
    "X_reduced = pd.DataFrame(X_reduced)"
   ]
  },
  {
   "cell_type": "code",
   "execution_count": 316,
   "metadata": {},
   "outputs": [],
   "source": [
    "#renombrando columnas del nuevo dataframe\n",
    "X_reduced.columns = [[\"x1\",\"x2\"]]"
   ]
  },
  {
   "cell_type": "code",
   "execution_count": 323,
   "metadata": {},
   "outputs": [
    {
     "data": {
      "text/plain": [
       "Text(0.5,1,'Distribución del nuevo espacio')"
      ]
     },
     "execution_count": 323,
     "metadata": {},
     "output_type": "execute_result"
    },
    {
     "data": {
      "image/png": "[encoded data removed]",
      "text/plain": [
       "<Figure size 432x288 with 1 Axes>"
      ]
     },
     "metadata": {},
     "output_type": "display_data"
    }
   ],
   "source": [
    "#recuperando el nuevo espacio vectorial, reducido a dos caracteristicas\n",
    "#Nota: guarde X_reduced,y\n",
    "#X_reduced.to_csv(\"../naive bayes/X_reduced.csv\",index=False)\n",
    "#y.to_csv(\"../naive bayes/y.csv\",index=False)\n",
    "#Nota 2: ds_nuevo solo lo ocupo para pintar el plot de distribución del nuevo espacio\n",
    "ds_nuevo = pd.read_csv(\"../naive bayes/nuevo_espacio.csv\")\n",
    "w1 = ds_nuevo[ds_nuevo['variety'] == 1]\n",
    "w2 = ds_nuevo[ds_nuevo['variety'] == 0]\n",
    "\n",
    "plt.plot(w1[\"x1\"],w1[\"x2\"],'ro')\n",
    "plt.plot(w2[\"x1\"],w2[\"x2\"],'go')\n",
    "\n",
    "plt.legend([\"w1\",\"w2\"])\n",
    "plt.xlabel(\"x1\")\n",
    "plt.ylabel(\"x2\")\n",
    "plt.title(\"Distribución del nuevo espacio\")"
   ]
  },
  {
   "cell_type": "code",
   "execution_count": 324,
   "metadata": {},
   "outputs": [],
   "source": [
    "#función para ajustar clasficador y retornar la precisión del mismo\n",
    "def get_score(model,X_train,X_test,y_train,y_test):\n",
    "    model.fit(X_train,y_train)\n",
    "    return model.score(X_test,y_test)"
   ]
  },
  {
   "cell_type": "code",
   "execution_count": 334,
   "metadata": {},
   "outputs": [],
   "source": [
    "def info_separacion(data_train,data_test,target_train,target_test):\n",
    "    print('data train',len(data_train))\n",
    "    print('target train',len(target_train))\n",
    "    print('data test',len(data_test))\n",
    "    print('target test',len(target_test))\n",
    "    print('shape train',data_train.shape,target_train.shape)\n",
    "    print('shape test',data_test.shape,target_test.shape)"
   ]
  },
  {
   "cell_type": "code",
   "execution_count": 337,
   "metadata": {},
   "outputs": [],
   "source": [
    "#tamaño del conjunto de prueba\n",
    "tst_size = 0.2"
   ]
  },
  {
   "cell_type": "code",
   "execution_count": 338,
   "metadata": {},
   "outputs": [
    {
     "name": "stdout",
     "output_type": "stream",
     "text": [
      "data train 120\n",
      "target train 120\n",
      "data test 30\n",
      "target test 30\n",
      "shape train (120, 2) (120, 1)\n",
      "shape test (30, 2) (30, 1)\n"
     ]
    }
   ],
   "source": [
    "#separación del dataset en datos de entrenamiento y de prueba usando X_reduced\n",
    "X_train,X_test,y_train,y_test = train_test_split(X_reduced,y,test_size=tst_size)\n",
    "info_separacion(X_train,X_test,y_train,y_test)"
   ]
  },
  {
   "cell_type": "code",
   "execution_count": 339,
   "metadata": {},
   "outputs": [
    {
     "name": "stdout",
     "output_type": "stream",
     "text": [
      "data train 120\n",
      "target train 120\n",
      "data test 30\n",
      "target test 30\n",
      "shape train (120, 4) (120, 1)\n",
      "shape test (30, 4) (30, 1)\n"
     ]
    }
   ],
   "source": [
    "#separacion del dataset en entrenamiendo y prueba usando las 4 características\n",
    "X_entren,X_prueba,y_entren,y_prueba = train_test_split(X,y,test_size=tst_size)\n",
    "info_separacion(X_entren,X_prueba,y_entren,y_prueba)"
   ]
  },
  {
   "cell_type": "code",
   "execution_count": 340,
   "metadata": {},
   "outputs": [
    {
     "data": {
      "text/plain": [
       "1.0"
      ]
     },
     "execution_count": 340,
     "metadata": {},
     "output_type": "execute_result"
    }
   ],
   "source": [
    "#precisión del modelo usando X_reduced\n",
    "get_score(GaussianNB(),X_train,X_test,y_train.values.ravel(),y_test)"
   ]
  },
  {
   "cell_type": "code",
   "execution_count": 342,
   "metadata": {},
   "outputs": [
    {
     "data": {
      "text/plain": [
       "1.0"
      ]
     },
     "execution_count": 342,
     "metadata": {},
     "output_type": "execute_result"
    }
   ],
   "source": [
    "#precisión del modelo usando X_reduced\n",
    "get_score(GaussianNB(),X_entren,X_prueba,y_entren.values.ravel(),y_prueba)"
   ]
  },
  {
   "cell_type": "code",
   "execution_count": 361,
   "metadata": {},
   "outputs": [
    {
     "name": "stdout",
     "output_type": "stream",
     "text": [
      "[0 0 0 1 0 1 0 0 1 1 0 0 0 0 1 1 1 0 0 1 0 0 0 0 1 1 0 0 0 0]\n",
      "[0 0 0 1 0 1 0 0 1 1 0 0 0 0 1 1 1 0 0 1 0 0 0 0 1 1 0 0 0 0]\n",
      "accuracy X_reduced 100.0\n"
     ]
    }
   ],
   "source": [
    "#instanciando modelo de clasificacion Naive Bayes\n",
    "NB_xreduced = GaussianNB()\n",
    "NB_xreduced.fit(X_test,y_test.values.ravel())\n",
    "#predicciones del clasificador, utilizando datos de prueba de X_reduced\n",
    "y_predicted = NB_xreduced.predict(X_test)\n",
    "print(y_predicted)\n",
    "print(y_test.values.ravel())\n",
    "#calculando la presicion (accuracy) del clasificador con X_reduced\n",
    "accuracy = accuracy_score(y_predicted,y_test)\n",
    "print('accuracy X_reduced',accuracy*100)"
   ]
  },
  {
   "cell_type": "code",
   "execution_count": 390,
   "metadata": {},
   "outputs": [],
   "source": [
    "knn = KNeighborsClassifier(n_neighbors=5,p=2)"
   ]
  },
  {
   "cell_type": "code",
   "execution_count": 391,
   "metadata": {},
   "outputs": [
    {
     "data": {
      "text/plain": [
       "KNeighborsClassifier(algorithm='auto', leaf_size=30, metric='minkowski',\n",
       "           metric_params=None, n_jobs=1, n_neighbors=5, p=2,\n",
       "           weights='uniform')"
      ]
     },
     "execution_count": 391,
     "metadata": {},
     "output_type": "execute_result"
    }
   ],
   "source": [
    "knn.fit(X_train,y_train.values.ravel())"
   ]
  },
  {
   "cell_type": "code",
   "execution_count": 392,
   "metadata": {},
   "outputs": [],
   "source": [
    "knn_predicted = knn.predict(X_test)"
   ]
  },
  {
   "cell_type": "code",
   "execution_count": 393,
   "metadata": {},
   "outputs": [
    {
     "name": "stdout",
     "output_type": "stream",
     "text": [
      "[0 0 0 1 0 1 0 0 1 1 0 0 0 0 1 1 1 0 0 1 0 0 0 0 1 1 0 0 0 0]\n",
      "[0 0 0 1 0 1 0 0 1 1 0 0 0 0 1 1 1 0 0 1 0 0 0 0 1 1 0 0 0 0]\n"
     ]
    }
   ],
   "source": [
    "print(knn_predicted)\n",
    "print(y_test.values.ravel())"
   ]
  },
  {
   "cell_type": "code",
   "execution_count": 362,
   "metadata": {},
   "outputs": [
    {
     "name": "stdout",
     "output_type": "stream",
     "text": [
      "[0 0 0 0 0 1 0 0 0 0 0 1 1 1 1 0 0 0 0 0 0 0 1 0 0 0 0 1 0 1]\n",
      "[0 0 0 0 0 1 0 0 0 0 0 1 1 1 1 0 0 0 0 0 0 0 1 0 0 0 0 1 0 1]\n",
      "accuracy X 100.0\n"
     ]
    }
   ],
   "source": [
    "#instanciando modelo de clasificacion Naive Bayes\n",
    "NB_x = GaussianNB()\n",
    "NB_x.fit(X_prueba,y_prueba.values.ravel())\n",
    "#predicciones del clasificador, utilizando datos de prueba de X_reduced\n",
    "y_prediccion = NB_x.predict(X_prueba)\n",
    "print(y_prediccion)\n",
    "print(y_prueba.values.ravel())\n",
    "#calculando la presicion (accuracy) del clasificador con X completo\n",
    "accuracy = accuracy_score(y_prediccion,y_prueba)\n",
    "print('accuracy X',accuracy*100)"
   ]
  },
  {
   "cell_type": "code",
   "execution_count": 363,
   "metadata": {},
   "outputs": [
    {
     "name": "stdout",
     "output_type": "stream",
     "text": [
      "[1. 1. 1.]\n"
     ]
    }
   ],
   "source": [
    "#otra forma de dividir los datos de prueba y entrenamiento para X_reduced\n",
    "#definiendo el número de k folds\n",
    "#kf = KFold(n_splits=3)\n",
    "k_folds =3\n",
    "scores = cross_val_score(GaussianNB(),X_reduced,y.values.ravel(),cv=k_folds)\n",
    "print(scores)"
   ]
  },
  {
   "cell_type": "code",
   "execution_count": 364,
   "metadata": {},
   "outputs": [
    {
     "name": "stdout",
     "output_type": "stream",
     "text": [
      "[1. 1. 1.]\n"
     ]
    }
   ],
   "source": [
    "#otra forma de dividir los datos de prueba y entrenamiento para X\n",
    "#definiendo el número de k folds\n",
    "#kf = KFold(n_splits=3)\n",
    "k_folds =3\n",
    "scores = cross_val_score(GaussianNB(),X,y.values.ravel(),cv=k_folds)\n",
    "print(scores)"
   ]
  },
  {
   "cell_type": "code",
   "execution_count": 365,
   "metadata": {},
   "outputs": [],
   "source": [
    "#matriz de confusión para X_reduced y X\n",
    "X_reduced_confusion_ma = confusion_matrix(y_test,y_predicted)\n",
    "X_confusion_ma = confusion_matrix(y_prueba,y_prediccion)"
   ]
  },
  {
   "cell_type": "code",
   "execution_count": 371,
   "metadata": {},
   "outputs": [],
   "source": [
    "def plot_conf_ma(confusion_ma):\n",
    "    w=[\"w1\",\"w2\"]\n",
    "    sbs.heatmap(data=confusion_ma,cmap=\"Pastel1\",annot=True,xticklabels=w,yticklabels=w)\n",
    "    plt.xlabel(\"Actual\")\n",
    "    plt.ylabel(\"predicción\")\n",
    "    plt.title(\"Matriz de confusión\")"
   ]
  },
  {
   "cell_type": "code",
   "execution_count": 372,
   "metadata": {},
   "outputs": [
    {
     "data": {
      "image/png": "[encoded data removed]",
      "text/plain": [
       "<Figure size 432x288 with 2 Axes>"
      ]
     },
     "metadata": {},
     "output_type": "display_data"
    }
   ],
   "source": [
    "#matriz de confusión para X_reduced\n",
    "plot_conf_ma(X_reduced_confusion_ma)"
   ]
  },
  {
   "cell_type": "code",
   "execution_count": 373,
   "metadata": {},
   "outputs": [
    {
     "data": {
      "image/png": "[encoded data removed]",
      "text/plain": [
       "<Figure size 432x288 with 2 Axes>"
      ]
     },
     "metadata": {},
     "output_type": "display_data"
    }
   ],
   "source": [
    "#matriz de confusión para X\n",
    "plot_conf_ma(X_confusion_ma)"
   ]
  },
  {
   "cell_type": "code",
   "execution_count": 289,
   "metadata": {},
   "outputs": [],
   "source": [
    "TN = confusion_ma[0][0]\n",
    "TP = confusion_ma[1][1]\n",
    "FN = confusion_ma[0][1]\n",
    "FP = confusion_ma[1][0]"
   ]
  },
  {
   "cell_type": "code",
   "execution_count": 292,
   "metadata": {},
   "outputs": [],
   "source": [
    "#sensibilidad y especificidad\n",
    "sens = TP/(TP+FN)\n",
    "espec_1 = 1-TN/(TN+FP)"
   ]
  },
  {
   "cell_type": "code",
   "execution_count": 300,
   "metadata": {},
   "outputs": [],
   "source": [
    "#array de probabilidades\n",
    "probs = clf_NB.predict_proba(X_test)"
   ]
  },
  {
   "cell_type": "code",
   "execution_count": 307,
   "metadata": {},
   "outputs": [],
   "source": [
    "roc_curve?"
   ]
  },
  {
   "cell_type": "code",
   "execution_count": null,
   "metadata": {},
   "outputs": [],
   "source": []
  }
 ],
 "metadata": {
  "kernelspec": {
   "display_name": "Python 3",
   "language": "python",
   "name": "python3"
  },
  "language_info": {
   "codemirror_mode": {
    "name": "ipython",
    "version": 3
   },
   "file_extension": ".py",
   "mimetype": "text/x-python",
   "name": "python",
   "nbconvert_exporter": "python",
   "pygments_lexer": "ipython3",
   "version": "3.6.5"
  }
 },
 "nbformat": 4,
 "nbformat_minor": 2
}
