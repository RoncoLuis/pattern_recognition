{
 "cells": [
  {
   "cell_type": "code",
   "execution_count": 144,
   "metadata": {},
   "outputs": [],
   "source": [
    "import pandas as pd\n",
    "import numpy as np\n",
    "from sklearn import preprocessing,cross_validation\n",
    "from sklearn.decomposition import PCA\n",
    "from sklearn.metrics import accuracy_score,confusion_matrix,recall_score,roc_curve,auc,precision_score\n",
    "from sklearn.model_selection import train_test_split\n",
    "from sklearn.naive_bayes import GaussianNB\n",
    "from sklearn.neighbors import KNeighborsClassifier,NearestNeighbors\n",
    "from sklearn.model_selection import KFold\n",
    "from sklearn.model_selection import cross_val_score\n",
    "import matplotlib.pyplot as plt\n",
    "import math as math\n",
    "import scipy.stats as stats\n",
    "import seaborn as sbs"
   ]
  },
  {
   "cell_type": "code",
   "execution_count": 51,
   "metadata": {},
   "outputs": [],
   "source": [
    "#recuperando base de datos\n",
    "ds = pd.read_csv(\"../datasets/iris_plant/iris_plant.csv\")"
   ]
  },
  {
   "cell_type": "code",
   "execution_count": 52,
   "metadata": {},
   "outputs": [],
   "source": [
    "#reemplazando clases por números 0=Setosa 1=Versicolor 2=Virginica\n",
    "ds['variety']=ds['variety'].replace(['Setosa'], 0)\n",
    "ds['variety']=ds['variety'].replace(['Versicolor'], 1)\n",
    "ds['variety']=ds['variety'].replace(['Virginica'], 2)"
   ]
  },
  {
   "cell_type": "code",
   "execution_count": 53,
   "metadata": {},
   "outputs": [],
   "source": [
    "#separando patrones y targets\n",
    "X = ds[[\"sepal.length\",\"sepal.width\",\"petal.length\",\"petal.width\"]]\n",
    "y = ds[[\"variety\"]]"
   ]
  },
  {
   "cell_type": "code",
   "execution_count": 54,
   "metadata": {},
   "outputs": [],
   "source": [
    "#renombrando las columnas de los patrones\n",
    "#v1=sepal.length,v2=sepal.width,v3=petal.length,v4=petal.width\n",
    "X.columns = [[\"v1\",\"v2\",\"v3\",\"v4\"]]"
   ]
  },
  {
   "cell_type": "code",
   "execution_count": 55,
   "metadata": {},
   "outputs": [
    {
     "data": {
      "text/plain": [
       "PCA(copy=True, iterated_power='auto', n_components=0.95, random_state=None,\n",
       "  svd_solver='auto', tol=0.0, whiten=False)"
      ]
     },
     "execution_count": 55,
     "metadata": {},
     "output_type": "execute_result"
    }
   ],
   "source": [
    "#PCA usando sklearn\n",
    "#porcentaje de información que se desea mantener de los datos\n",
    "informacion = 0.95\n",
    "pca = PCA(n_components=informacion) \n",
    "pca.fit(X)"
   ]
  },
  {
   "cell_type": "code",
   "execution_count": 81,
   "metadata": {},
   "outputs": [],
   "source": [
    "#proyectando el nuevo espacio de características obtenidas con PCA\n",
    "X_reduced = pca.fit_transform(X)\n",
    "#convirtiendo a dataframe para un mejor manejo\n",
    "X_reduced = pd.DataFrame(X_reduced)\n",
    "#renombrando columnas del nuevo dataframe\n",
    "X_reduced.columns = [[\"x1\",\"x2\"]]"
   ]
  },
  {
   "cell_type": "code",
   "execution_count": 82,
   "metadata": {},
   "outputs": [],
   "source": [
    "#recuperando el nuevo espacio vectorial reducido a dos caracteristicas para pintar el nuevo espacio vectorial\n",
    "ds_nuevo = X_reduced\n",
    "#añadiendo columna variety\n",
    "ds_nuevo[\"variety\"] = y\n",
    "#guardando el nuevo espacio vectorial\n",
    "ds_nuevo.to_csv(\"../naive bayes/ds_denuevo.csv\",index=False)"
   ]
  },
  {
   "cell_type": "code",
   "execution_count": 89,
   "metadata": {},
   "outputs": [],
   "source": [
    "ds_nuevo = pd.read_csv(\"../naive bayes/ds_denuevo.csv\")"
   ]
  },
  {
   "cell_type": "code",
   "execution_count": 95,
   "metadata": {},
   "outputs": [
    {
     "data": {
      "text/plain": [
       "Text(0.5,1,'Distribución del nuevo espacio reducido')"
      ]
     },
     "execution_count": 95,
     "metadata": {},
     "output_type": "execute_result"
    },
    {
     "data": {
      "image/png": "[encoded data removed]",
      "text/plain": [
       "<Figure size 432x288 with 1 Axes>"
      ]
     },
     "metadata": {},
     "output_type": "display_data"
    }
   ],
   "source": [
    "w1 = ds_nuevo[ds_nuevo['variety'] == 0]\n",
    "w2 = ds_nuevo[ds_nuevo['variety'] == 1]\n",
    "w3 = ds_nuevo[ds_nuevo['variety'] == 2]\n",
    "\n",
    "plt.plot(w1[\"x1\"],w1[\"x2\"],'ro')\n",
    "plt.plot(w2[\"x1\"],w2[\"x2\"],'go')\n",
    "plt.plot(w3[\"x1\"],w3[\"x2\"],'bo')\n",
    "\n",
    "plt.legend([\"w1\",\"w2\",\"w3\"])\n",
    "plt.xlabel(\"x1\")\n",
    "plt.ylabel(\"x2\")\n",
    "plt.title(\"Distribución del nuevo espacio reducido\")"
   ]
  },
  {
   "cell_type": "code",
   "execution_count": 96,
   "metadata": {},
   "outputs": [],
   "source": [
    "def info_separacion(data_train,data_test,target_train,target_test):\n",
    "    print('data train',len(data_train))\n",
    "    print('target train',len(target_train))\n",
    "    print('data test',len(data_test))\n",
    "    print('target test',len(target_test))\n",
    "    print('shape train',data_train.shape,target_train.shape)\n",
    "    print('shape test',data_test.shape,target_test.shape)"
   ]
  },
  {
   "cell_type": "code",
   "execution_count": 101,
   "metadata": {},
   "outputs": [
    {
     "name": "stdout",
     "output_type": "stream",
     "text": [
      "data train 112\n",
      "target train 112\n",
      "data test 38\n",
      "target test 38\n",
      "shape train (112, 4) (112, 1)\n",
      "shape test (38, 4) (38, 1)\n"
     ]
    }
   ],
   "source": [
    "#tamaño del conjunto de prueba\n",
    "tst_size = 0.25\n",
    "#separación del dataset en datos de entrenamiento y de prueba usando X_reduced\n",
    "X_train,X_test,y_train,y_test = train_test_split(X,y,test_size=tst_size)\n",
    "info_separacion(X_train,X_test,y_train,y_test)"
   ]
  },
  {
   "cell_type": "code",
   "execution_count": 152,
   "metadata": {},
   "outputs": [
    {
     "name": "stdout",
     "output_type": "stream",
     "text": [
      "[1 2 0 2 2 1 1 0 0 1 0 0 0 1 2 0 0 1 2 2 0 1 2 1 1 1 1 0 0 0 2 1 2 2 0 1 2\n",
      " 1]\n",
      "[2 2 0 2 2 1 1 0 0 1 0 0 0 1 2 0 0 1 2 2 0 1 2 1 1 1 1 0 0 0 2 1 2 1 0 1 2\n",
      " 1]\n",
      "accuracy: 94.73684210526315\n"
     ]
    }
   ],
   "source": [
    "#instanciando modelo de clasificacion Naive Bayes\n",
    "clf_NB = GaussianNB()\n",
    "clf_NB.fit(X_test,y_test.values.ravel())\n",
    "#predicciones del clasificador, utilizando datos de prueba de X_reduced\n",
    "NB_y_predicted = clf_NB.predict(X_test)\n",
    "print(NB_y_predicted)\n",
    "print(y_test.values.ravel())\n",
    "#calculando la presicion (accuracy) del clasificador con X_reduced\n",
    "accuracy = accuracy_score(NB_y_predicted,y_test)\n",
    "print('accuracy:',accuracy*100)"
   ]
  },
  {
   "cell_type": "code",
   "execution_count": 166,
   "metadata": {},
   "outputs": [
    {
     "name": "stdout",
     "output_type": "stream",
     "text": [
      "[2 2 0 2 2 1 1 0 0 1 0 0 0 1 2 0 0 1 2 2 0 1 2 1 1 1 1 0 0 0 2 1 2 2 0 1 2\n",
      " 1]\n",
      "[2 2 0 2 2 1 1 0 0 1 0 0 0 1 2 0 0 1 2 2 0 1 2 1 1 1 1 0 0 0 2 1 2 1 0 1 2\n",
      " 1]\n",
      "accuracy: 97.36842105263158\n"
     ]
    }
   ],
   "source": [
    "#clasificador KNN\n",
    "#p1 = manhattan_distance\n",
    "#p2 = euclidean_distance\n",
    "knn = KNeighborsClassifier(n_neighbors=5,p=2)\n",
    "knn.fit(X_test,y_test.values.ravel())\n",
    "#predicciones del clasificador, utilizando datos de prueba de X_reduced\n",
    "KNN_y_predicted = knn.predict(X_test)\n",
    "print(KNN_y_predicted)\n",
    "print(y_test.values.ravel())\n",
    "#calculando la presicion (accuracy) del clasificador con X_reduced\n",
    "accuracy = accuracy_score(KNN_y_predicted,y_test)\n",
    "print('accuracy:',accuracy*100)"
   ]
  },
  {
   "cell_type": "code",
   "execution_count": 162,
   "metadata": {},
   "outputs": [],
   "source": [
    "#función para mostrar matriz de confusión\n",
    "def plot_conf_ma(confusion_ma,title):\n",
    "    w=[\"Setosa\",\"Versicolor\",'Virginica']\n",
    "    sbs.heatmap(data=confusion_ma,cmap=\"Pastel1\",annot=True,xticklabels=w,yticklabels=w)\n",
    "    plt.xlabel(\"Actual\")\n",
    "    plt.ylabel(\"predicción\")\n",
    "    plt.title(title)"
   ]
  },
  {
   "cell_type": "code",
   "execution_count": 167,
   "metadata": {},
   "outputs": [
    {
     "data": {
      "image/png": "[encoded data removed]",
      "text/plain": [
       "<Figure size 432x288 with 2 Axes>"
      ]
     },
     "metadata": {},
     "output_type": "display_data"
    }
   ],
   "source": [
    "#matriz de confusión con Naive Bayes\n",
    "plot_conf_ma(confusion_matrix(y_test,NB_y_predicted),\"Matriz de confusión NB\")"
   ]
  },
  {
   "cell_type": "code",
   "execution_count": 223,
   "metadata": {},
   "outputs": [],
   "source": [
    "confusion_matrix?"
   ]
  },
  {
   "cell_type": "code",
   "execution_count": 168,
   "metadata": {},
   "outputs": [
    {
     "data": {
      "image/png": "[encoded data removed]",
      "text/plain": [
       "<Figure size 432x288 with 2 Axes>"
      ]
     },
     "metadata": {},
     "output_type": "display_data"
    }
   ],
   "source": [
    "plot_conf_ma(confusion_matrix(y_test,KNN_y_predicted),\"Matriz de confusión KNN\")"
   ]
  },
  {
   "cell_type": "code",
   "execution_count": 169,
   "metadata": {},
   "outputs": [],
   "source": [
    "NB_probs = clf_NB.predict_proba(X_test)"
   ]
  },
  {
   "cell_type": "code",
   "execution_count": 171,
   "metadata": {},
   "outputs": [],
   "source": [
    "KNN_probs = knn.predict_proba(X_test)"
   ]
  },
  {
   "cell_type": "markdown",
   "metadata": {},
   "source": [
    "# Ejercicio de Curva ROC de prueba"
   ]
  },
  {
   "cell_type": "code",
   "execution_count": 187,
   "metadata": {},
   "outputs": [],
   "source": [
    "from sklearn.linear_model import LogisticRegression"
   ]
  },
  {
   "cell_type": "code",
   "execution_count": 188,
   "metadata": {},
   "outputs": [],
   "source": [
    "lm = LogisticRegression()"
   ]
  },
  {
   "cell_type": "code",
   "execution_count": 190,
   "metadata": {},
   "outputs": [
    {
     "data": {
      "text/plain": [
       "LogisticRegression(C=1.0, class_weight=None, dual=False, fit_intercept=True,\n",
       "          intercept_scaling=1, max_iter=100, multi_class='ovr', n_jobs=1,\n",
       "          penalty='l2', random_state=None, solver='liblinear', tol=0.0001,\n",
       "          verbose=0, warm_start=False)"
      ]
     },
     "execution_count": 190,
     "metadata": {},
     "output_type": "execute_result"
    }
   ],
   "source": [
    "lm.fit(X_train,y_train.values.ravel())"
   ]
  },
  {
   "cell_type": "code",
   "execution_count": 191,
   "metadata": {},
   "outputs": [],
   "source": [
    "probs = lm.predict_proba(X_test)"
   ]
  },
  {
   "cell_type": "code",
   "execution_count": 205,
   "metadata": {},
   "outputs": [],
   "source": [
    "prob = probs[:,1]\n",
    "prob_df = pd.DataFrame(prob)\n",
    "threshold = 0.1\n",
    "prob_df[\"prediction\"] = np.where(prob_df[0]>=threshold,1,0)"
   ]
  },
  {
   "cell_type": "code",
   "execution_count": 206,
   "metadata": {},
   "outputs": [
    {
     "data": {
      "text/plain": [
       "array([[ 2, 11,  0],\n",
       "       [ 0, 14,  0],\n",
       "       [ 0, 11,  0]], dtype=int64)"
      ]
     },
     "execution_count": 206,
     "metadata": {},
     "output_type": "execute_result"
    }
   ],
   "source": [
    "confusion_matrix(y_test,prob_df[\"prediction\"])"
   ]
  },
  {
   "cell_type": "code",
   "execution_count": 215,
   "metadata": {},
   "outputs": [
    {
     "name": "stderr",
     "output_type": "stream",
     "text": [
      "C:\\Anaconda3\\lib\\site-packages\\ipykernel_launcher.py:1: SettingWithCopyWarning: \n",
      "A value is trying to be set on a copy of a slice from a DataFrame.\n",
      "Try using .loc[row_indexer,col_indexer] = value instead\n",
      "\n",
      "See the caveats in the documentation: http://pandas.pydata.org/pandas-docs/stable/indexing.html#indexing-view-versus-copy\n",
      "  \"\"\"Entry point for launching an IPython kernel.\n"
     ]
    }
   ],
   "source": [
    "y_test[\"variety\"] = y_test[\"variety\"].replace(2,1)"
   ]
  },
  {
   "cell_type": "code",
   "execution_count": 217,
   "metadata": {},
   "outputs": [],
   "source": [
    "y_scores = clf_NB.predict_proba(X_test)\n",
    "fpr, tpr, threshold = roc_curve(y_test, y_scores[:, 1])"
   ]
  },
  {
   "cell_type": "code",
   "execution_count": 218,
   "metadata": {},
   "outputs": [],
   "source": [
    "roc_auc = auc(fpr,tpr)"
   ]
  },
  {
   "cell_type": "code",
   "execution_count": 222,
   "metadata": {},
   "outputs": [
    {
     "name": "stdout",
     "output_type": "stream",
     "text": [
      "[9.99999999e-01 1.63922345e-08 5.33767824e-10 3.99292745e-10\n",
      " 6.95639418e-18]\n"
     ]
    }
   ],
   "source": [
    "print(threshold)"
   ]
  },
  {
   "cell_type": "code",
   "execution_count": 220,
   "metadata": {},
   "outputs": [
    {
     "data": {
      "image/png": "[encoded data removed]",
      "text/plain": [
       "<Figure size 432x288 with 1 Axes>"
      ]
     },
     "metadata": {},
     "output_type": "display_data"
    }
   ],
   "source": [
    "plt.title('Receiver Operating Characteristic')\n",
    "plt.plot(fpr, tpr, 'b', label = 'AUC = %0.2f' % roc_auc)\n",
    "plt.legend(loc = 'lower right')\n",
    "plt.plot([0, 1], [0, 1],'r--')\n",
    "plt.xlim([0, 1])\n",
    "plt.ylim([0, 1])\n",
    "plt.ylabel('True Positive Rate')\n",
    "plt.xlabel('False Positive Rate')\n",
    "plt.title('ROC Curve of Naive Bayes')\n",
    "plt.show()"
   ]
  },
  {
   "cell_type": "code",
   "execution_count": null,
   "metadata": {},
   "outputs": [],
   "source": []
  }
 ],
 "metadata": {
  "kernelspec": {
   "display_name": "Python 3",
   "language": "python",
   "name": "python3"
  },
  "language_info": {
   "codemirror_mode": {
    "name": "ipython",
    "version": 3
   },
   "file_extension": ".py",
   "mimetype": "text/x-python",
   "name": "python",
   "nbconvert_exporter": "python",
   "pygments_lexer": "ipython3",
   "version": "3.6.5"
  }
 },
 "nbformat": 4,
 "nbformat_minor": 2
}
