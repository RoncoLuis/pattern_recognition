{
 "cells": [
  {
   "cell_type": "code",
   "execution_count": 7,
   "metadata": {},
   "outputs": [],
   "source": [
    "import pandas as pd\n",
    "import numpy as np\n",
    "import matplotlib.pyplot as plt"
   ]
  },
  {
   "cell_type": "markdown",
   "metadata": {},
   "source": [
    "## Base de datos original, versión PCA"
   ]
  },
  {
   "cell_type": "code",
   "execution_count": 2,
   "metadata": {},
   "outputs": [],
   "source": [
    "ds = pd.read_csv(\"../datasets/iris_plant/PCA_iris_plant.csv\")"
   ]
  },
  {
   "cell_type": "markdown",
   "metadata": {},
   "source": [
    "## aplicando validación cruzada 75-25"
   ]
  },
  {
   "cell_type": "code",
   "execution_count": 9,
   "metadata": {},
   "outputs": [],
   "source": [
    "from sklearn.model_selection import train_test_split"
   ]
  },
  {
   "cell_type": "code",
   "execution_count": 10,
   "metadata": {},
   "outputs": [],
   "source": [
    "x_train,x_test = train_test_split(ds,test_size=.25)"
   ]
  },
  {
   "cell_type": "code",
   "execution_count": 14,
   "metadata": {},
   "outputs": [
    {
     "data": {
      "text/html": [
       "<div>\n",
       "<style scoped>\n",
       "    .dataframe tbody tr th:only-of-type {\n",
       "        vertical-align: middle;\n",
       "    }\n",
       "\n",
       "    .dataframe tbody tr th {\n",
       "        vertical-align: top;\n",
       "    }\n",
       "\n",
       "    .dataframe thead th {\n",
       "        text-align: right;\n",
       "    }\n",
       "</style>\n",
       "<table border=\"1\" class=\"dataframe\">\n",
       "  <thead>\n",
       "    <tr style=\"text-align: right;\">\n",
       "      <th></th>\n",
       "      <th>x1</th>\n",
       "      <th>x2</th>\n",
       "      <th>variety</th>\n",
       "    </tr>\n",
       "  </thead>\n",
       "  <tbody>\n",
       "    <tr>\n",
       "      <th>90</th>\n",
       "      <td>0.464800</td>\n",
       "      <td>-0.670712</td>\n",
       "      <td>1</td>\n",
       "    </tr>\n",
       "    <tr>\n",
       "      <th>62</th>\n",
       "      <td>0.264977</td>\n",
       "      <td>-0.550036</td>\n",
       "      <td>1</td>\n",
       "    </tr>\n",
       "    <tr>\n",
       "      <th>71</th>\n",
       "      <td>0.357888</td>\n",
       "      <td>-0.068925</td>\n",
       "      <td>1</td>\n",
       "    </tr>\n",
       "    <tr>\n",
       "      <th>78</th>\n",
       "      <td>0.813291</td>\n",
       "      <td>-0.163350</td>\n",
       "      <td>1</td>\n",
       "    </tr>\n",
       "    <tr>\n",
       "      <th>36</th>\n",
       "      <td>-2.625238</td>\n",
       "      <td>0.599370</td>\n",
       "      <td>0</td>\n",
       "    </tr>\n",
       "  </tbody>\n",
       "</table>\n",
       "</div>"
      ],
      "text/plain": [
       "          x1        x2  variety\n",
       "90  0.464800 -0.670712        1\n",
       "62  0.264977 -0.550036        1\n",
       "71  0.357888 -0.068925        1\n",
       "78  0.813291 -0.163350        1\n",
       "36 -2.625238  0.599370        0"
      ]
     },
     "execution_count": 14,
     "metadata": {},
     "output_type": "execute_result"
    }
   ],
   "source": [
    "#aqui probar train y test.\n",
    "x_train.head()"
   ]
  },
  {
   "cell_type": "markdown",
   "metadata": {},
   "source": [
    "## dividiendo el conjunto de datos de entrenamiento\n",
    "Se dividira el conjunto en setosa, virginica y versicolor"
   ]
  },
  {
   "cell_type": "code",
   "execution_count": 22,
   "metadata": {},
   "outputs": [],
   "source": [
    "setosa = x_train[x_train[\"variety\"]==0]\n",
    "versicolor = x_train[x_train[\"variety\"]==1]\n",
    "virginica = x_train[x_train[\"variety\"]==2]"
   ]
  },
  {
   "cell_type": "code",
   "execution_count": 23,
   "metadata": {},
   "outputs": [
    {
     "data": {
      "text/html": [
       "<div>\n",
       "<style scoped>\n",
       "    .dataframe tbody tr th:only-of-type {\n",
       "        vertical-align: middle;\n",
       "    }\n",
       "\n",
       "    .dataframe tbody tr th {\n",
       "        vertical-align: top;\n",
       "    }\n",
       "\n",
       "    .dataframe thead th {\n",
       "        text-align: right;\n",
       "    }\n",
       "</style>\n",
       "<table border=\"1\" class=\"dataframe\">\n",
       "  <thead>\n",
       "    <tr style=\"text-align: right;\">\n",
       "      <th></th>\n",
       "      <th>x1</th>\n",
       "      <th>x2</th>\n",
       "      <th>variety</th>\n",
       "    </tr>\n",
       "  </thead>\n",
       "  <tbody>\n",
       "    <tr>\n",
       "      <th>36</th>\n",
       "      <td>-2.625238</td>\n",
       "      <td>0.599370</td>\n",
       "      <td>0</td>\n",
       "    </tr>\n",
       "    <tr>\n",
       "      <th>26</th>\n",
       "      <td>-2.468820</td>\n",
       "      <td>0.130951</td>\n",
       "      <td>0</td>\n",
       "    </tr>\n",
       "    <tr>\n",
       "      <th>28</th>\n",
       "      <td>-2.639535</td>\n",
       "      <td>0.312040</td>\n",
       "      <td>0</td>\n",
       "    </tr>\n",
       "    <tr>\n",
       "      <th>6</th>\n",
       "      <td>-2.820538</td>\n",
       "      <td>-0.089461</td>\n",
       "      <td>0</td>\n",
       "    </tr>\n",
       "    <tr>\n",
       "      <th>19</th>\n",
       "      <td>-2.587986</td>\n",
       "      <td>0.513560</td>\n",
       "      <td>0</td>\n",
       "    </tr>\n",
       "  </tbody>\n",
       "</table>\n",
       "</div>"
      ],
      "text/plain": [
       "          x1        x2  variety\n",
       "36 -2.625238  0.599370        0\n",
       "26 -2.468820  0.130951        0\n",
       "28 -2.639535  0.312040        0\n",
       "6  -2.820538 -0.089461        0\n",
       "19 -2.587986  0.513560        0"
      ]
     },
     "execution_count": 23,
     "metadata": {},
     "output_type": "execute_result"
    }
   ],
   "source": [
    "setosa.head()"
   ]
  },
  {
   "cell_type": "code",
   "execution_count": 24,
   "metadata": {},
   "outputs": [
    {
     "data": {
      "text/plain": [
       "Text(0.5,1,'Conjunto de entrenamiento')"
      ]
     },
     "execution_count": 24,
     "metadata": {},
     "output_type": "execute_result"
    },
    {
     "data": {
      "image/png": "[encoded data removed]",
      "text/plain": [
       "<Figure size 432x288 with 1 Axes>"
      ]
     },
     "metadata": {},
     "output_type": "display_data"
    }
   ],
   "source": [
    "plt.scatter(x=setosa[\"x1\"],y=setosa[\"x2\"],color='r',marker='o')\n",
    "plt.scatter(x=versicolor[\"x1\"],y=versicolor[\"x2\"],color='b',marker='s')\n",
    "plt.scatter(x=virginica[\"x1\"],y=virginica[\"x2\"],color='g',marker='^')\n",
    "plt.legend([\"Setosa\",\"Versicolor\",\"Virginica\"])\n",
    "plt.xlabel(\"x1\")\n",
    "plt.ylabel(\"x2\")\n",
    "plt.title(\"Conjunto de entrenamiento\")"
   ]
  },
  {
   "cell_type": "markdown",
   "metadata": {},
   "source": [
    "## nuevos conjuntos clase principal y clase nube"
   ]
  },
  {
   "cell_type": "code",
   "execution_count": 25,
   "metadata": {},
   "outputs": [],
   "source": [
    "principal = setosa\n",
    "nube=versicolor.append(virginica)"
   ]
  },
  {
   "cell_type": "markdown",
   "metadata": {},
   "source": [
    "## cambiando target de principal y nube"
   ]
  },
  {
   "cell_type": "code",
   "execution_count": 31,
   "metadata": {},
   "outputs": [
    {
     "name": "stderr",
     "output_type": "stream",
     "text": [
      "C:\\Anaconda3\\lib\\site-packages\\ipykernel_launcher.py:1: SettingWithCopyWarning: \n",
      "A value is trying to be set on a copy of a slice from a DataFrame.\n",
      "Try using .loc[row_indexer,col_indexer] = value instead\n",
      "\n",
      "See the caveats in the documentation: http://pandas.pydata.org/pandas-docs/stable/indexing.html#indexing-view-versus-copy\n",
      "  \"\"\"Entry point for launching an IPython kernel.\n"
     ]
    }
   ],
   "source": [
    "principal[\"variety\"] = principal[\"variety\"].replace([0],1)"
   ]
  },
  {
   "cell_type": "code",
   "execution_count": 35,
   "metadata": {},
   "outputs": [],
   "source": [
    "nube[\"variety\"] = nube[\"variety\"].replace([1],0)\n",
    "nube[\"variety\"] = nube[\"variety\"].replace([2],0)"
   ]
  },
  {
   "cell_type": "code",
   "execution_count": 47,
   "metadata": {},
   "outputs": [
    {
     "data": {
      "text/plain": [
       "Text(0,0.5,'x2')"
      ]
     },
     "execution_count": 47,
     "metadata": {},
     "output_type": "execute_result"
    },
    {
     "data": {
      "image/png": "[encoded data removed]",
      "text/plain": [
       "<Figure size 432x288 with 1 Axes>"
      ]
     },
     "metadata": {},
     "output_type": "display_data"
    }
   ],
   "source": [
    "plt.scatter(x=principal[\"x1\"],y=principal[\"x2\"],color='red',marker='^')\n",
    "plt.scatter(x=nube[\"x1\"],y=nube[\"x2\"],color='blue',marker='o')\n",
    "plt.legend([\"Principal\",\"Nube\"])\n",
    "plt.title(\"clase principal y clase nube\")\n",
    "plt.xlabel(\"x1\")\n",
    "plt.ylabel(\"x2\")"
   ]
  },
  {
   "cell_type": "markdown",
   "metadata": {},
   "source": [
    "## punto medio entre clase principal y clase nube"
   ]
  },
  {
   "cell_type": "code",
   "execution_count": 48,
   "metadata": {},
   "outputs": [],
   "source": [
    "pMedio = (principal.mean()+nube.mean())/2"
   ]
  },
  {
   "cell_type": "code",
   "execution_count": 49,
   "metadata": {},
   "outputs": [
    {
     "name": "stdout",
     "output_type": "stream",
     "text": [
      "x1        -0.679000\n",
      "x2         0.055016\n",
      "variety    0.500000\n",
      "dtype: float64\n"
     ]
    }
   ],
   "source": [
    "print(pMedio)"
   ]
  },
  {
   "cell_type": "code",
   "execution_count": 53,
   "metadata": {},
   "outputs": [
    {
     "data": {
      "text/plain": [
       "Text(0,0.5,'x2')"
      ]
     },
     "execution_count": 53,
     "metadata": {},
     "output_type": "execute_result"
    },
    {
     "data": {
      "image/png": "[encoded data removed]",
      "text/plain": [
       "<Figure size 432x288 with 1 Axes>"
      ]
     },
     "metadata": {},
     "output_type": "display_data"
    }
   ],
   "source": [
    "plt.scatter(x=principal[\"x1\"],y=principal[\"x2\"],color='red',marker='^')\n",
    "plt.scatter(x=nube[\"x1\"],y=nube[\"x2\"],color='blue',marker='o')\n",
    "plt.scatter(x=pMedio[\"x1\"],y=pMedio[\"x2\"],color='green',marker='*',s=100)\n",
    "plt.legend([\"Principal\",\"Nube\"])\n",
    "plt.title(\"clase principal y clase nube\")\n",
    "plt.xlabel(\"x1\")\n",
    "plt.ylabel(\"x2\")"
   ]
  },
  {
   "cell_type": "markdown",
   "metadata": {},
   "source": [
    "## restando clase principal y clase nube"
   ]
  },
  {
   "cell_type": "code",
   "execution_count": 57,
   "metadata": {},
   "outputs": [
    {
     "name": "stdout",
     "output_type": "stream",
     "text": [
      "           x1        x2  variety\n",
      "36  -2.625238  0.599370        1\n",
      "26  -2.468820  0.130951        1\n",
      "28  -2.639535  0.312040        1\n",
      "6   -2.820538 -0.089461        1\n",
      "19  -2.587986  0.513560        1\n",
      "2   -2.888991 -0.144949        1\n",
      "47  -2.839462 -0.227946        1\n",
      "9   -2.672756 -0.113774        1\n",
      "31  -2.409932  0.410924        1\n",
      "40  -2.770102  0.263528        1\n",
      "4   -2.728717  0.326755        1\n",
      "46  -2.538148  0.503771        1\n",
      "30  -2.587398 -0.204318        1\n",
      "44  -2.209489  0.436663        1\n",
      "22  -3.215939  0.133468        1\n",
      "3   -2.745343 -0.318299        1\n",
      "23  -2.302733  0.098709        1\n",
      "5   -2.280860  0.741330        1\n",
      "35  -2.866242  0.069364        1\n",
      "48  -2.543086  0.579410        1\n",
      "21  -2.543705  0.432996        1\n",
      "11  -2.612755  0.014730        1\n",
      "39  -2.590006  0.229044        1\n",
      "49  -2.703360  0.107706        1\n",
      "18  -2.199820  0.872839        1\n",
      "16  -2.623528  0.810680        1\n",
      "14  -2.644750  1.178765        1\n",
      "34  -2.636927 -0.121322        1\n",
      "41  -2.849369 -0.940961        1\n",
      "8   -2.886383 -0.578312        1\n",
      "..        ...       ...      ...\n",
      "129  2.388003  0.464640        0\n",
      "114  1.585928 -0.539641        0\n",
      "119  1.300792 -0.761150        0\n",
      "132  2.159438 -0.217278        0\n",
      "149  1.390189 -0.282661        0\n",
      "135  3.076500  0.688086        0\n",
      "107  2.932587  0.355500        0\n",
      "117  3.487055  1.175739        0\n",
      "145  1.944110  0.187532        0\n",
      "143  2.563013  0.277863        0\n",
      "116  1.949689  0.041943        0\n",
      "100  2.531193 -0.009849        0\n",
      "123  1.388766 -0.204399        0\n",
      "118  3.795645  0.257323        0\n",
      "120  2.427818  0.378196        0\n",
      "111  1.803402 -0.215638        0\n",
      "128  2.123609 -0.209729        0\n",
      "133  1.444161 -0.143413        0\n",
      "127  1.291132 -0.116669        0\n",
      "104  2.350006 -0.040261        0\n",
      "124  2.275431  0.334991        0\n",
      "140  2.314155  0.183651        0\n",
      "108  2.321229 -0.243832        0\n",
      "109  2.916751  0.782792        0\n",
      "136  2.144243  0.140064        0\n",
      "113  1.346164 -0.776818        0\n",
      "122  3.499920  0.460674        0\n",
      "110  1.661774  0.242228        0\n",
      "138  1.169326 -0.164990        0\n",
      "148  1.900942  0.116628        0\n",
      "\n",
      "[112 rows x 3 columns]\n"
     ]
    }
   ],
   "source": [
    "entrenamiento = principal.append(nube)\n",
    "print(entrenamiento)\n",
    "#vm1 = principal-pMedio\n",
    "#vm2 = nube-pMedio\n",
    "#print('vm1',vm1)\n",
    "#print('vm2',vm2)"
   ]
  },
  {
   "cell_type": "code",
   "execution_count": 58,
   "metadata": {},
   "outputs": [
    {
     "name": "stdout",
     "output_type": "stream",
     "text": [
      "           x1        x2  variety\n",
      "36  -1.946238  0.544354      0.5\n",
      "26  -1.789820  0.075936      0.5\n",
      "28  -1.960534  0.257024      0.5\n",
      "6   -2.141537 -0.144477      0.5\n",
      "19  -1.908986  0.458545      0.5\n",
      "2   -2.209990 -0.199965      0.5\n",
      "47  -2.160462 -0.282961      0.5\n",
      "9   -1.993756 -0.168790      0.5\n",
      "31  -1.730932  0.355909      0.5\n",
      "40  -2.091102  0.208512      0.5\n",
      "4   -2.049716  0.271739      0.5\n",
      "46  -1.859148  0.448756      0.5\n",
      "30  -1.908398 -0.259334      0.5\n",
      "44  -1.530489  0.381648      0.5\n",
      "22  -2.536939  0.078453      0.5\n",
      "3   -2.066343 -0.373315      0.5\n",
      "23  -1.623733  0.043693      0.5\n",
      "5   -1.601859  0.686315      0.5\n",
      "35  -2.187241  0.014349      0.5\n",
      "48  -1.864085  0.524394      0.5\n",
      "21  -1.864705  0.377981      0.5\n",
      "11  -1.933755 -0.040286      0.5\n",
      "39  -1.911006  0.174028      0.5\n",
      "49  -2.024359  0.052691      0.5\n",
      "18  -1.520820  0.817823      0.5\n",
      "16  -1.944528  0.755664      0.5\n",
      "14  -1.965750  1.123749      0.5\n",
      "34  -1.957927 -0.176338      0.5\n",
      "41  -2.170368 -0.995976      0.5\n",
      "8   -2.207382 -0.633327      0.5\n",
      "..        ...       ...      ...\n",
      "129  3.067003  0.409624     -0.5\n",
      "114  2.264929 -0.594656     -0.5\n",
      "119  1.979792 -0.816165     -0.5\n",
      "132  2.838438 -0.272293     -0.5\n",
      "149  2.069189 -0.337676     -0.5\n",
      "135  3.755500  0.633070     -0.5\n",
      "107  3.611587  0.300484     -0.5\n",
      "117  4.166056  1.120724     -0.5\n",
      "145  2.623110  0.132517     -0.5\n",
      "143  3.242014  0.222847     -0.5\n",
      "116  2.628689 -0.013072     -0.5\n",
      "100  3.210193 -0.064865     -0.5\n",
      "123  2.067766 -0.259415     -0.5\n",
      "118  4.474646  0.202307     -0.5\n",
      "120  3.106818  0.323180     -0.5\n",
      "111  2.482402 -0.270653     -0.5\n",
      "128  2.802609 -0.264745     -0.5\n",
      "133  2.123162 -0.198429     -0.5\n",
      "127  1.970132 -0.171684     -0.5\n",
      "104  3.029006 -0.095277     -0.5\n",
      "124  2.954431  0.279975     -0.5\n",
      "140  2.993155  0.128636     -0.5\n",
      "108  3.000229 -0.298847     -0.5\n",
      "109  3.595751  0.727776     -0.5\n",
      "136  2.823244  0.085049     -0.5\n",
      "113  2.025164 -0.831834     -0.5\n",
      "122  4.178920  0.405659     -0.5\n",
      "110  2.340774  0.187213     -0.5\n",
      "138  1.848327 -0.220006     -0.5\n",
      "148  2.579942  0.061612     -0.5\n",
      "\n",
      "[112 rows x 3 columns]\n"
     ]
    }
   ],
   "source": [
    "xecoma = entrenamiento-pMedio\n",
    "print(xecoma)"
   ]
  },
  {
   "cell_type": "code",
   "execution_count": 71,
   "metadata": {},
   "outputs": [],
   "source": [
    "sum_xecoma = xecoma[xecoma[\"variety\"]==0.5]\n",
    "sum_x1 = sum(sumx1[\"x1\"])\n",
    "sum_x2 = sum(sumx1[\"x2\"])"
   ]
  },
  {
   "cell_type": "code",
   "execution_count": 88,
   "metadata": {},
   "outputs": [],
   "source": [
    "memoria_1 = np.array([[sum_x1,sum_x2],[0,0]])\n",
    "#print(memoria_1)"
   ]
  },
  {
   "cell_type": "code",
   "execution_count": 89,
   "metadata": {},
   "outputs": [
    {
     "data": {
      "text/plain": [
       "Text(0,0.5,'x2')"
      ]
     },
     "execution_count": 89,
     "metadata": {},
     "output_type": "execute_result"
    },
    {
     "data": {
      "image/png": "[encoded data removed]",
      "text/plain": [
       "<Figure size 432x288 with 1 Axes>"
      ]
     },
     "metadata": {},
     "output_type": "display_data"
    }
   ],
   "source": [
    "plt.scatter(x=virginica[\"x1\"],y=virginica[\"x2\"],color='red',marker='^')\n",
    "plt.scatter(x=versicolor[\"x1\"],y=versicolor[\"x2\"],color='blue',marker='o')\n",
    "plt.legend([\"Virginica\",\"Versicolor\"])\n",
    "plt.title(\"clase principal y clase nube\")\n",
    "plt.xlabel(\"x1\")\n",
    "plt.ylabel(\"x2\")"
   ]
  },
  {
   "cell_type": "code",
   "execution_count": 83,
   "metadata": {},
   "outputs": [],
   "source": [
    "principal_2 = pd.DataFrame()\n",
    "nube_2 = pd.DataFrame()"
   ]
  },
  {
   "cell_type": "code",
   "execution_count": 84,
   "metadata": {},
   "outputs": [],
   "source": [
    "principal_2 = principal_2.append(versicolor) \n",
    "nube_2 = nube_2.append(virginica)"
   ]
  },
  {
   "cell_type": "code",
   "execution_count": 85,
   "metadata": {},
   "outputs": [],
   "source": [
    "pMedio_2 = (principal_2.mean()+nube_2.mean())/2"
   ]
  },
  {
   "cell_type": "code",
   "execution_count": 111,
   "metadata": {},
   "outputs": [
    {
     "data": {
      "image/png": "[encoded data removed]",
      "text/plain": [
       "<Figure size 1120x640 with 1 Axes>"
      ]
     },
     "metadata": {},
     "output_type": "display_data"
    }
   ],
   "source": [
    "plt.figure(figsize=(14, 8), dpi=80)\n",
    "plt.scatter(x=virginica[\"x1\"],y=virginica[\"x2\"],color='red',marker='^')\n",
    "plt.scatter(x=versicolor[\"x1\"],y=versicolor[\"x2\"],color='blue',marker='o')\n",
    "plt.scatter(x=pMedio_2[\"x1\"],y=pMedio_2[\"x2\"],color='green',marker='*',s=200)\n",
    "plt.plot([-1,4], [-1.0,0.9],'m--')\n",
    "plt.legend([\"Principal\",\"Nube\",\"pMedio\"])\n",
    "plt.title(\"clase principal y clase nube\")\n",
    "plt.xlabel(\"x1\")\n",
    "plt.ylabel(\"x2\")\n",
    "plt.show()\n",
    "#linea de codigo para guardar una figura en formato jpg\n",
    "#plt.savefig('pic.png') "
   ]
  },
  {
   "cell_type": "code",
   "execution_count": 91,
   "metadata": {},
   "outputs": [],
   "source": [
    "entrenamiento_2  = principal_2.append(nube_2)"
   ]
  },
  {
   "cell_type": "code",
   "execution_count": 92,
   "metadata": {},
   "outputs": [
    {
     "name": "stdout",
     "output_type": "stream",
     "text": [
      "           x1        x2  variety\n",
      "90  -0.827478 -0.546369     -0.5\n",
      "62  -1.027302 -0.425694     -0.5\n",
      "71  -0.934390  0.055418     -0.5\n",
      "78  -0.478988 -0.039008     -0.5\n",
      "81  -1.481901 -0.555944     -0.5\n",
      "74  -0.577425  0.273399     -0.5\n",
      "54  -0.204175  0.198933     -0.5\n",
      "99  -0.993278 -0.224555     -0.5\n",
      "88  -1.046321 -0.144182     -0.5\n",
      "51  -0.359790  0.442676     -0.5\n",
      "95  -0.960344 -0.088312     -0.5\n",
      "82  -1.155850 -0.189690     -0.5\n",
      "60  -1.800119 -1.141629     -0.5\n",
      "56  -0.197218  0.407811     -0.5\n",
      "97  -0.649703  0.142081     -0.5\n",
      "89  -1.125865 -0.557584     -0.5\n",
      "68  -0.347545 -0.418803     -0.5\n",
      "55  -0.650609 -0.293904     -0.5\n",
      "57  -2.041401 -0.880548     -0.5\n",
      "77   0.265524  0.391838     -0.5\n",
      "75  -0.392104  0.452847     -0.5\n",
      "53  -1.108961 -0.703616     -0.5\n",
      "50  -0.007453  0.809503     -0.5\n",
      "96  -0.916063 -0.168876     -0.5\n",
      "86  -0.071588  0.531962     -0.5\n",
      "73  -0.370550 -0.058395     -0.5\n",
      "52   0.172024  0.628605     -0.5\n",
      "80  -1.360405 -0.580829     -0.5\n",
      "66  -0.631995 -0.228627     -0.5\n",
      "94  -0.935297 -0.380567     -0.5\n",
      "..        ...       ...      ...\n",
      "129  1.095724  0.588982      0.5\n",
      "114  0.293650 -0.415298      0.5\n",
      "119  0.008513 -0.636807      0.5\n",
      "132  0.867159 -0.092935      0.5\n",
      "149  0.097910 -0.158318      0.5\n",
      "135  1.784221  0.812428      0.5\n",
      "107  1.640309  0.479843      0.5\n",
      "117  2.194777  1.300082      0.5\n",
      "145  0.651831  0.311875      0.5\n",
      "143  1.270735  0.402205      0.5\n",
      "116  0.657411  0.166286      0.5\n",
      "100  1.238914  0.114494      0.5\n",
      "123  0.096488 -0.080057      0.5\n",
      "118  2.503367  0.381666      0.5\n",
      "120  1.135539  0.502539      0.5\n",
      "111  0.511123 -0.091295      0.5\n",
      "128  0.831330 -0.085387      0.5\n",
      "133  0.151883 -0.019071      0.5\n",
      "127 -0.001146  0.007674      0.5\n",
      "104  1.057727  0.084082      0.5\n",
      "124  0.983152  0.459333      0.5\n",
      "140  1.021876  0.307994      0.5\n",
      "108  1.028950 -0.119489      0.5\n",
      "109  1.624472  0.907135      0.5\n",
      "136  0.851965  0.264407      0.5\n",
      "113  0.053885 -0.652476      0.5\n",
      "122  2.207642  0.585017      0.5\n",
      "110  0.369496  0.366571      0.5\n",
      "138 -0.122952 -0.040648      0.5\n",
      "148  0.608663  0.240971      0.5\n",
      "\n",
      "[73 rows x 3 columns]\n"
     ]
    }
   ],
   "source": [
    "xecoma_2 = entrenamiento_2- pMedio_2\n",
    "print(xecoma_2)"
   ]
  },
  {
   "cell_type": "code",
   "execution_count": 95,
   "metadata": {},
   "outputs": [],
   "source": [
    "sum_xecoma_2 = xecoma_2[xecoma_2[\"variety\"]==0.5]\n",
    "sum_xecoma_1 = xecoma_2[xecoma_2[\"variety\"]==-0.5]\n",
    "\n",
    "v_sum_xecoma_2_x1 = sum(sum_xecoma_2[\"x1\"])\n",
    "v_sum_xecoma_2_x2 = sum(sum_xecoma_2[\"x2\"])\n",
    "\n",
    "v_sum_xecoma_1_x1 = sum(sum_xecoma_1[\"x1\"])\n",
    "v_sum_xecoma_1_x2 = sum(sum_xecoma_1[\"x2\"])\n",
    "\n",
    "memoria_2 = np.array([[v_sum_xecoma_2_x1,v_sum_xecoma_2_x2],[v_sum_xecoma_1_x1,v_sum_xecoma_1_x2]])"
   ]
  },
  {
   "cell_type": "code",
   "execution_count": 97,
   "metadata": {},
   "outputs": [
    {
     "name": "stdout",
     "output_type": "stream",
     "text": [
      "[[ 27.63628858   4.31036307]\n",
      " [-28.40396326  -4.43009538]]\n"
     ]
    }
   ],
   "source": [
    "print(memoria_2)"
   ]
  },
  {
   "cell_type": "code",
   "execution_count": null,
   "metadata": {},
   "outputs": [],
   "source": []
  }
 ],
 "metadata": {
  "kernelspec": {
   "display_name": "Python 3",
   "language": "python",
   "name": "python3"
  },
  "language_info": {
   "codemirror_mode": {
    "name": "ipython",
    "version": 3
   },
   "file_extension": ".py",
   "mimetype": "text/x-python",
   "name": "python",
   "nbconvert_exporter": "python",
   "pygments_lexer": "ipython3",
   "version": "3.6.5"
  }
 },
 "nbformat": 4,
 "nbformat_minor": 2
}
